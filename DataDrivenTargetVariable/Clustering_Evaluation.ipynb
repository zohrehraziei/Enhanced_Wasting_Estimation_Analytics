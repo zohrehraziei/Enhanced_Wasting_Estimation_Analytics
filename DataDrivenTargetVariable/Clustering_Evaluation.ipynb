{
  "cells": [
    {
      "cell_type": "code",
      "execution_count": null,
      "metadata": {
        "id": "ycfiUco8l6Kn"
      },
      "outputs": [],
      "source": [
        "from google.colab import files\n",
        "uploaded = files.upload()"
      ]
    },
    {
      "cell_type": "code",
      "execution_count": null,
      "metadata": {
        "id": "oFIaAP4ampNK"
      },
      "outputs": [],
      "source": [
        "import pandas as pd\n",
        "import seaborn as sns\n",
        "import numpy as np\n",
        "from sklearn.preprocessing import MinMaxScaler"
      ]
    },
    {
      "cell_type": "code",
      "execution_count": null,
      "metadata": {
        "id": "nCRbD-DWdqko"
      },
      "outputs": [],
      "source": [
        "# Read 2020-2020 data (1205 records). Read mean imputed file or the original file with 0 as imputation\n",
        "df_hotspot = pd.read_csv('hotspot_meanimputed.csv')"
      ]
    },
    {
      "cell_type": "code",
      "execution_count": null,
      "metadata": {
        "id": "iORYDC8QpYVy"
      },
      "outputs": [],
      "source": [
        "df_hotspot"
      ]
    },
    {
      "cell_type": "code",
      "execution_count": null,
      "metadata": {
        "id": "OPTipQKbe-ew"
      },
      "outputs": [],
      "source": [
        "# Variable Selection\n",
        "# Level: ADMIN_2_Admnistratif\n",
        "# Population variables: 'population_totale', 'population_6-59_month'\n",
        "# Malnutrition prevalence variables: 'gam_prevalence', 'sam_prevalence','mam_prevalence'\n",
        "# Burden related variables: 'gam_burden', 'sam_burden', 'mam_burden'\n",
        "# Nutrition + disease variables: 'diarrhee', 'malaria_fever', 'vita', 'deworming','measles', 'ari_cough'\n",
        "# Conflict +food insecurity variables: 'INFORM_Conflict_Probability', 'Food_Insecurity_Probability', 'Political_violence', 'Conflict_probability', 'Human', 'HAZARD','Recent_Shocks', 'Food_Security','Uprooted_people','Conflict_Intensity'\n",
        "# Disaster variables: 'Physical_exposure_to_flood', 'Land_Degradation', 'Droughts_probability_and_historical_impact', 'Natural',\n",
        "# Socio economic variables: 'Development_&_Deprivation', 'Inequality', 'Aid_Dependency','Socio-Economic_Vulnerability',  'Health_Conditions'\n",
        "# Gov+Infrastructure variables: 'Governance', 'Institutional', 'Communication', 'Physical_infrastructure', 'Access_to_health_care', 'Infrastructure'\n",
        "# Outcome class: 'priority_level_validated_by_the_clusters'"
      ]
    },
    {
      "cell_type": "markdown",
      "metadata": {
        "id": "CQz-biiazV2v"
      },
      "source": [
        "#Model 1\n",
        "Malnutrition prevalance"
      ]
    },
    {
      "cell_type": "code",
      "execution_count": null,
      "metadata": {
        "id": "682FuH3fjpio"
      },
      "outputs": [],
      "source": [
        "# Selecting population + malnutrition prevalance + burden data\n",
        "# 'gam_burden', 'sam_burden', 'mam_burden'\n",
        "df_hotspot_mdl1 = df_hotspot[['year','priority_level_validated_by_the_clusters','ADMIN_2_Admnistratif','gam_prevalence', 'sam_prevalence','mam_prevalence']]\n",
        "# Impute missing values with 0\n",
        "df_hotspot_mdl1.fillna(0, inplace=True)\n",
        "#df_hotspot_mdl1 = df_hotspot_mdl1[df_hotspot_mdl1['year'] == 2020]"
      ]
    },
    {
      "cell_type": "code",
      "execution_count": null,
      "metadata": {
        "id": "475IKdFRkftP"
      },
      "outputs": [],
      "source": [
        "df_hotspot_mdl1['priority_level_validated_by_the_clusters'].unique()"
      ]
    },
    {
      "cell_type": "code",
      "execution_count": null,
      "metadata": {
        "id": "3T87rSZalZ1Y"
      },
      "outputs": [],
      "source": [
        "# Normalize data\n",
        "scaler = MinMaxScaler()\n",
        "mdl1_data = scaler.fit_transform(df_hotspot_mdl1.iloc[:,3:8])\n",
        "mdl1_data"
      ]
    },
    {
      "cell_type": "code",
      "execution_count": null,
      "metadata": {
        "id": "hTfFrYc2mZjJ"
      },
      "outputs": [],
      "source": [
        "# Clustering process\n",
        "# Select number of classes = 4 to match the four classes provided by the expert\n",
        "from sklearn.cluster import KMeans\n",
        "mdl1 = KMeans(n_clusters=4)\n",
        "mdl1.fit(mdl1_data)\n",
        "print('SSE Mdl1: '+ str(mdl1.inertia_))"
      ]
    },
    {
      "cell_type": "code",
      "execution_count": null,
      "metadata": {
        "id": "5f2fJbcOnj1w"
      },
      "outputs": [],
      "source": [
        "# Unsupervised clusters\n",
        "# Use this result to validate priority level provided by expert and clustering solution provided by the kmeans algorithm\n",
        "df_hotspot_mdl1['clusteringlabels'] = mdl1.labels_\n",
        "df_hotspot_mdl1.to_csv('Clustering prevalence.csv', encoding = 'utf-8-sig')\n",
        "files.download('Clustering prevalence.csv')"
      ]
    },
    {
      "cell_type": "code",
      "source": [
        "np.unique(mdl1.labels_)"
      ],
      "metadata": {
        "id": "uKwn_7o5S6b5"
      },
      "execution_count": null,
      "outputs": []
    },
    {
      "cell_type": "code",
      "execution_count": null,
      "metadata": {
        "id": "KtMyjVaDS6th"
      },
      "outputs": [],
      "source": [
        "# Unsupervised clusters\n",
        "# Use this result to validate priority level provided by expert and clustering solution provided by the kmeans algorithm\n",
        "df_hotspot_mdl1['clusteringlabels'] = mdl1.labels_\n",
        "df_hotspot_mdl1.to_csv('Clustering prevalence.csv', encoding = 'utf-8-sig')\n",
        "files.download('Clustering prevalence.csv')"
      ]
    },
    {
      "cell_type": "markdown",
      "metadata": {
        "id": "3bobxdxnzSJX"
      },
      "source": [
        "# Model 2\n",
        "### Nutrition + disease variables"
      ]
    },
    {
      "cell_type": "code",
      "execution_count": null,
      "metadata": {
        "id": "DG06Dv-GzNQH"
      },
      "outputs": [],
      "source": [
        "# Selecting Nutrition + disease variables\n",
        "df_hotspot_mdl2 = df_hotspot[['year','priority_level_validated_by_the_clusters','ADMIN_2_Admnistratif','diarrhee', 'malaria_fever', 'vita', 'deworming','measles', 'ari_cough' ]]\n",
        "# Impute missing values with 0\n",
        "df_hotspot_mdl2.fillna(0, inplace=True)\n",
        "#df_hotspot_mdl2 = df_hotspot_mdl2[df_hotspot_mdl2['year'] == 2020]"
      ]
    },
    {
      "cell_type": "code",
      "execution_count": null,
      "metadata": {
        "id": "Z2rJbVXOlf80"
      },
      "outputs": [],
      "source": [
        "df_hotspot_mdl2"
      ]
    },
    {
      "cell_type": "code",
      "execution_count": null,
      "metadata": {
        "id": "WEJxzLS5z0iO"
      },
      "outputs": [],
      "source": [
        "# Normalize data\n",
        "from sklearn.preprocessing import MinMaxScaler\n",
        "scaler = MinMaxScaler()\n",
        "mdl2_data = scaler.fit_transform(df_hotspot_mdl2.iloc[:,3:8])\n",
        "mdl2_data"
      ]
    },
    {
      "cell_type": "code",
      "execution_count": null,
      "metadata": {
        "id": "d-0mtQdk0Ux-"
      },
      "outputs": [],
      "source": [
        "# Clustering process\n",
        "# Select number of classes = 4 to match the four classes provided by the expert\n",
        "mdl2 = KMeans(n_clusters=4)\n",
        "mdl2.fit(mdl2_data)\n",
        "print('SSE Mdl1: '+ str(mdl2.inertia_))"
      ]
    },
    {
      "cell_type": "code",
      "execution_count": null,
      "metadata": {
        "id": "ltrApFW60dk2"
      },
      "outputs": [],
      "source": [
        "# Unsupervised clusters\n",
        "# Use this result to validate priority level provided by expert and clustering solution provided by the kmeans algorithm\n",
        "df_hotspot_mdl2['clusteringlabels'] = mdl2.labels_\n",
        "df_hotspot_mdl2.to_csv('Nutrition + disease data.csv', encoding = 'utf-8-sig')\n",
        "files.download('Nutrition + disease data.csv')"
      ]
    },
    {
      "cell_type": "markdown",
      "metadata": {
        "id": "-xPctRk3-7_2"
      },
      "source": [
        "#Model 3\n",
        "### Conflict + Food Insecurity"
      ]
    },
    {
      "cell_type": "code",
      "execution_count": null,
      "metadata": {
        "id": "nb5UzO0w--Tj"
      },
      "outputs": [],
      "source": [
        "# Conflict +food insecurity variables: 'INFORM_Conflict_Probability', 'Food_Insecurity_Probability', 'Political_violence', 'Conflict_probability', 'Human', 'HAZARD','Recent_Shocks', 'Food_Security','Uprooted_people','Conflict_Intensity'"
      ]
    },
    {
      "cell_type": "code",
      "execution_count": null,
      "metadata": {
        "id": "SRxpm23O--or"
      },
      "outputs": [],
      "source": [
        "# Selecting Nutrition + disease variables\n",
        "df_hotspot_mdl3 = df_hotspot[['year','priority_level_validated_by_the_clusters','ADMIN_2_Admnistratif','INFORM_Conflict_Probability', 'Food_Insecurity_Probability', 'Political_violence', 'Conflict_probability', 'HAZARD','Recent_Shocks', 'Food_Security','Uprooted_people','Conflict_Intensity' ]]\n",
        "# Impute missing values with 0\n",
        "# Data type conversion\n",
        "df_hotspot_mdl3['Food_Security'] = pd.to_numeric(df_hotspot_mdl3['Food_Security'],errors = 'coerce')\n",
        "df_hotspot_mdl3['Food_Insecurity_Probability'] = pd.to_numeric(df_hotspot_mdl3['Food_Insecurity_Probability'],errors = 'coerce')\n",
        "# Impute missing values with 0\n",
        "df_hotspot_mdl3.fillna(0, inplace=True)\n",
        "#df_hotspot_mdl3 = df_hotspot_mdl3[df_hotspot_mdl3['year'] == 2020]"
      ]
    },
    {
      "cell_type": "code",
      "execution_count": null,
      "metadata": {
        "id": "JIPxyQ-__nel"
      },
      "outputs": [],
      "source": [
        "df_hotspot_mdl3"
      ]
    },
    {
      "cell_type": "code",
      "execution_count": null,
      "metadata": {
        "id": "aiVJ5mT9--or"
      },
      "outputs": [],
      "source": [
        "# Normalize data\n",
        "from sklearn.preprocessing import MinMaxScaler\n",
        "scaler = MinMaxScaler()\n",
        "mdl3_data = scaler.fit_transform(df_hotspot_mdl3.iloc[:,3:13])\n",
        "mdl3_data"
      ]
    },
    {
      "cell_type": "code",
      "execution_count": null,
      "metadata": {
        "id": "Y-P0vQfZ--or"
      },
      "outputs": [],
      "source": [
        "# Clustering process\n",
        "# Select number of classes = 4 to match the four classes provided by the expert\n",
        "mdl3 = KMeans(n_clusters=4)\n",
        "mdl3.fit(mdl3_data)\n",
        "print('SSE Mdl3: '+ str(mdl3.inertia_))"
      ]
    },
    {
      "cell_type": "code",
      "execution_count": null,
      "metadata": {
        "id": "GoSawqHf--or"
      },
      "outputs": [],
      "source": [
        "# Unsupervised clusters\n",
        "# Use this result to validate priority level provided by expert and clustering solution provided by the kmeans algorithm\n",
        "df_hotspot_mdl3['clusteringlabels'] = mdl3.labels_\n",
        "df_hotspot_mdl3.to_csv('Conflict + Food Insecurity.csv', encoding = 'utf-8-sig')\n",
        "files.download('Conflict + Food Insecurity.csv')"
      ]
    },
    {
      "cell_type": "markdown",
      "metadata": {
        "id": "2f8I_BwsAq7d"
      },
      "source": [
        "# Model 4\n",
        "### Disaster related variables"
      ]
    },
    {
      "cell_type": "code",
      "execution_count": null,
      "metadata": {
        "id": "37vBvthBBA_q"
      },
      "outputs": [],
      "source": [
        "# Selecting Nutrition + disease variables\n",
        "df_hotspot_mdl4 = df_hotspot[['year','priority_level_validated_by_the_clusters','ADMIN_2_Admnistratif','Physical_exposure_to_flood', 'Land_Degradation', 'Droughts_probability_and_historical_impact', 'Natural']]\n",
        "# Impute missing values with 0\n",
        "df_hotspot_mdl4.fillna(0, inplace=True)\n",
        "#df_hotspot_mdl4 = df_hotspot_mdl4[df_hotspot_mdl4['year'] == 2020]"
      ]
    },
    {
      "cell_type": "code",
      "execution_count": null,
      "metadata": {
        "id": "flw_5e1bBA_q"
      },
      "outputs": [],
      "source": [
        "# Normalize data\n",
        "from sklearn.preprocessing import MinMaxScaler\n",
        "scaler = MinMaxScaler()\n",
        "mdl4_data = scaler.fit_transform(df_hotspot_mdl4.iloc[:,3:6])\n",
        "mdl4_data"
      ]
    },
    {
      "cell_type": "code",
      "execution_count": null,
      "metadata": {
        "id": "AFZI81LXBA_q"
      },
      "outputs": [],
      "source": [
        "# Clustering process\n",
        "# Select number of classes = 4 to match the four classes provided by the expert\n",
        "mdl4 = KMeans(n_clusters=4)\n",
        "mdl4.fit(mdl4_data)\n",
        "print('SSE Mdl1: '+ str(mdl4.inertia_))"
      ]
    },
    {
      "cell_type": "code",
      "execution_count": null,
      "metadata": {
        "id": "2-FSbyEpBA_q"
      },
      "outputs": [],
      "source": [
        "# Unsupervised clusters\n",
        "# Use this result to validate priority level provided by expert and clustering solution provided by the kmeans algorithm\n",
        "df_hotspot_mdl4['clusteringlabels'] = mdl4.labels_\n",
        "df_hotspot_mdl4.to_csv('Disaster variables.csv', encoding = 'utf-8-sig')\n",
        "files.download('Disaster variables.csv')"
      ]
    },
    {
      "cell_type": "markdown",
      "metadata": {
        "id": "CaojfGUwBsww"
      },
      "source": [
        "#Model 5\n",
        "### Socio economic + Govt + infrastructure variables"
      ]
    },
    {
      "cell_type": "code",
      "execution_count": null,
      "metadata": {
        "id": "1af6Q58XCN3a"
      },
      "outputs": [],
      "source": [
        "# Selecting Nutrition + disease variables\n",
        "df_hotspot_mdl5 = df_hotspot[['year','priority_level_validated_by_the_clusters','ADMIN_2_Admnistratif','Development_&_Deprivation', 'Inequality', 'Aid_Dependency','Socio-Economic_Vulnerability',  'Health_Conditions'\n",
        ", 'Governance', 'Institutional', 'Communication', 'Physical_infrastructure', 'Access_to_health_care', 'Infrastructure' ]]\n",
        "# Impute missing values with 0\n",
        "df_hotspot_mdl5.fillna(0, inplace=True)\n",
        "#df_hotspot_mdl5 = df_hotspot_mdl5[df_hotspot_mdl5['year'] == 2020]"
      ]
    },
    {
      "cell_type": "code",
      "execution_count": null,
      "metadata": {
        "id": "VBn4d0wSCN3a"
      },
      "outputs": [],
      "source": [
        "# Normalize data\n",
        "from sklearn.preprocessing import MinMaxScaler\n",
        "scaler = MinMaxScaler()\n",
        "mdl5_data = scaler.fit_transform(df_hotspot_mdl5.iloc[:,3:14])\n",
        "mdl5_data"
      ]
    },
    {
      "cell_type": "code",
      "execution_count": null,
      "metadata": {
        "id": "1TkDLhnQCN3a"
      },
      "outputs": [],
      "source": [
        "# Clustering process\n",
        "# Select number of classes = 4 to match the four classes provided by the expert\n",
        "mdl5 = KMeans(n_clusters=4)\n",
        "mdl5.fit(mdl5_data)\n",
        "print('SSE Mdl5: '+ str(mdl5.inertia_))"
      ]
    },
    {
      "cell_type": "code",
      "execution_count": null,
      "metadata": {
        "id": "0KopkFOhCN3a"
      },
      "outputs": [],
      "source": [
        "# Unsupervised clusters\n",
        "# Use this result to validate priority level provided by expert and clustering solution provided by the kmeans algorithm\n",
        "df_hotspot_mdl5['clusteringlabels'] = mdl5.labels_\n",
        "df_hotspot_mdl5.to_csv('Socio economic + Govt + infrastructure.csv', encoding = 'utf-8-sig')\n",
        "files.download('Socio economic + Govt + infrastructure.csv')"
      ]
    },
    {
      "cell_type": "markdown",
      "metadata": {
        "id": "rNBX8W9jp_Nc"
      },
      "source": [
        "# model 6\n",
        "### ALL VARIABLES (EXCEPT MALNUTRITION)"
      ]
    },
    {
      "cell_type": "code",
      "execution_count": null,
      "metadata": {
        "id": "Ik5bSYlxp6Vb"
      },
      "outputs": [],
      "source": [
        "df_hotspot_mdl = df_hotspot[['year','priority_level_validated_by_the_clusters','ADMIN_2_Admnistratif', 'diarrhee', 'malaria_fever', 'vita', 'deworming','measles', 'ari_cough' ,'INFORM_Conflict_Probability', 'Food_Insecurity_Probability', 'Political_violence', 'Conflict_probability', 'HAZARD','Recent_Shocks', 'Food_Security','Uprooted_people','Conflict_Intensity', 'Physical_exposure_to_flood', 'Land_Degradation', 'Droughts_probability_and_historical_impact', 'Natural', 'Development_&_Deprivation', 'Inequality', 'Aid_Dependency','Socio-Economic_Vulnerability',  'Health_Conditions' ,'Governance', 'Institutional', 'Communication', 'Physical_infrastructure', 'Access_to_health_care', 'Infrastructure']]\n"
      ]
    },
    {
      "cell_type": "code",
      "execution_count": null,
      "metadata": {
        "id": "NEmBhuQEp6Vc"
      },
      "outputs": [],
      "source": [
        "df_hotspot_mdl"
      ]
    },
    {
      "cell_type": "code",
      "execution_count": null,
      "metadata": {
        "id": "rJ8PEkXvp6Vc"
      },
      "outputs": [],
      "source": [
        "# Data type conversion\n",
        "df_hotspot_mdl['Food_Security'] = pd.to_numeric(df_hotspot_mdl['Food_Security'],errors = 'coerce')\n",
        "df_hotspot_mdl['Food_Insecurity_Probability'] = pd.to_numeric(df_hotspot_mdl['Food_Insecurity_Probability'],errors = 'coerce')"
      ]
    },
    {
      "cell_type": "code",
      "execution_count": null,
      "metadata": {
        "id": "27TQA6NSp6Vc"
      },
      "outputs": [],
      "source": [
        "df_hotspot_mdl.dtypes"
      ]
    },
    {
      "cell_type": "code",
      "execution_count": null,
      "metadata": {
        "id": "p_ju6j2Fp6Vc"
      },
      "outputs": [],
      "source": [
        "df_hotspot_mdl.fillna(0, inplace=True)\n",
        "#df_hotspot_mdl = df_hotspot_mdl[df_hotspot_mdl['year'] == 2020]"
      ]
    },
    {
      "cell_type": "code",
      "execution_count": null,
      "metadata": {
        "id": "NHr2D2y5p6Vc"
      },
      "outputs": [],
      "source": [
        "df_hotspot_mdl['priority_level_validated_by_the_clusters'].unique()"
      ]
    },
    {
      "cell_type": "code",
      "execution_count": null,
      "metadata": {
        "id": "NiNdL5A9p6Vc"
      },
      "outputs": [],
      "source": [
        "# Normalize data\n",
        "from sklearn.preprocessing import MinMaxScaler\n",
        "scaler = MinMaxScaler()\n",
        "mdl_data = scaler.fit_transform(df_hotspot_mdl.iloc[:,3:42])\n",
        "mdl_data"
      ]
    },
    {
      "cell_type": "code",
      "execution_count": null,
      "metadata": {
        "id": "4oTN8QbGp6Vd"
      },
      "outputs": [],
      "source": [
        "# Clustering process\n",
        "# Select number of classes = 4 to match the four classes provided by the expert\n",
        "from sklearn.cluster import KMeans\n",
        "mdl = KMeans(n_clusters=4)\n",
        "mdl.fit(mdl_data)\n",
        "print('SSE Mdl: '+ str(mdl.inertia_))"
      ]
    },
    {
      "cell_type": "code",
      "execution_count": null,
      "metadata": {
        "id": "hOjxa5wBp6Vd"
      },
      "outputs": [],
      "source": [
        "# Unsupervised clusters\n",
        "# Use this result to validate priority level provided by expert and clustering solution provided by the kmeans algorithm\n",
        "df_hotspot_mdl['clusteringlabels'] = mdl.labels_\n",
        "df_hotspot_mdl.to_csv('All variables(except malnutrition).csv', encoding = 'utf-8-sig')\n",
        "files.download('All variables(except malnutrition).csv')"
      ]
    }
  ],
  "metadata": {
    "colab": {
      "provenance": []
    },
    "kernelspec": {
      "display_name": "Python 3",
      "name": "python3"
    },
    "language_info": {
      "name": "python"
    }
  },
  "nbformat": 4,
  "nbformat_minor": 0
}