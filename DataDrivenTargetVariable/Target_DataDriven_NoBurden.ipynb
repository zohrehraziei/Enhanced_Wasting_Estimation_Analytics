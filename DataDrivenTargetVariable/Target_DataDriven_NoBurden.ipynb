{
 "cells": [
  {
   "cell_type": "code",
   "execution_count": null,
   "metadata": {
    "colab": {
     "base_uri": "https://localhost:8080/"
    },
    "id": "8nYuqu2Drh_H",
    "outputId": "45afd2a0-dd19-4ac9-9c72-c60ae98e8c84"
   },
   "outputs": [],
   "source": [
    "# !pip install shap\n",
    "# !pip install category_encoders"
   ]
  },
  {
   "cell_type": "code",
   "execution_count": null,
   "metadata": {
    "colab": {
     "base_uri": "https://localhost:8080/"
    },
    "id": "2UPqpR9G16L5",
    "outputId": "f37f9060-8a26-44f4-c232-8d92b666c696"
   },
   "outputs": [],
   "source": [
    "import numpy as np\n",
    "import shap\n",
    "from sklearn.preprocessing import MinMaxScaler\n",
    "from sklearn.model_selection import cross_val_score\n",
    "from sklearn.model_selection import cross_val_predict\n",
    "from sklearn.metrics import cohen_kappa_score\n",
    "from sklearn.impute import KNNImputer\n",
    "import pandas as pd\n",
    "import matplotlib.pyplot as plt\n",
    "import seaborn as sns\n",
    "from sklearn.pipeline import Pipeline\n",
    "import re\n",
    "from sklearn.svm import SVC, LinearSVC\n",
    "from sklearn.ensemble import RandomForestClassifier\n",
    "import lightgbm as lgb\n",
    "import seaborn as sn \n",
    "import xgboost as xgb\n",
    "from sklearn.model_selection import train_test_split, cross_val_score, GridSearchCV, RandomizedSearchCV\n",
    "from sklearn.metrics import classification_report, make_scorer, accuracy_score, confusion_matrix, ConfusionMatrixDisplay\n",
    "import category_encoders as ce\n",
    "\n",
    "pd.set_option('max_rows', 1000)\n",
    "pd.set_option('max_columns', 1000)\n",
    "print(\"Numpy version {}\".format(np.__version__))\n",
    "print(\"Pandas version {}\".format(pd.__version__))"
   ]
  },
  {
   "cell_type": "code",
   "execution_count": null,
   "metadata": {
    "id": "kaYvi7Jm0Efy"
   },
   "outputs": [],
   "source": [
    "cluster_set = pd.read_csv(\"/content/Conflict + Food Insecurity.csv\")"
   ]
  },
  {
   "cell_type": "code",
   "execution_count": null,
   "metadata": {
    "colab": {
     "base_uri": "https://localhost:8080/"
    },
    "id": "Q9VmLPX80b0E",
    "outputId": "4a06481b-3071-4d8b-ec23-86e8a6b2de17"
   },
   "outputs": [],
   "source": [
    "cluster_set.columns"
   ]
  },
  {
   "cell_type": "code",
   "execution_count": null,
   "metadata": {
    "colab": {
     "base_uri": "https://localhost:8080/"
    },
    "id": "LvF9m89Y0e0W",
    "outputId": "dda6c7c3-f671-4895-8557-6f2943f74e4f"
   },
   "outputs": [],
   "source": [
    "# The target variable from clustering\n",
    "cluster_set['clusteringlabels'].isnull().sum(axis=0)"
   ]
  },
  {
   "cell_type": "code",
   "execution_count": null,
   "metadata": {
    "id": "MCpxJavaU8gk"
   },
   "outputs": [],
   "source": [
    "def sklearn_qwk(y_true, y_pred) -> np.float64:\n",
    "    \"\"\"\n",
    "    Function for measuring Quadratic Weighted Kappa with scikit-learn\n",
    "    \n",
    "    :param y_true: The ground truth labels\n",
    "    :param y_pred: The predicted labels\n",
    "    \n",
    "    :return The Quadratic Weighted Kappa Score (QWK)\n",
    "    \"\"\"\n",
    "    return cohen_kappa_score(y_true, y_pred, weights=\"quadratic\")"
   ]
  },
  {
   "cell_type": "code",
   "execution_count": null,
   "metadata": {
    "id": "X3ZZVcEcr0pY"
   },
   "outputs": [],
   "source": [
    "# path to data file\n",
    "path = \"/content/Dataset_2020_22.csv\"\n",
    "\n",
    "df = pd.read_csv(path, encoding='ISO-8859-1')"
   ]
  },
  {
   "cell_type": "code",
   "execution_count": null,
   "metadata": {
    "id": "33_s0KY34dXH"
   },
   "outputs": [],
   "source": [
    "# The cluster labels are in the same order as the dataset is\n",
    "# therefore, we can directly get the target column from the cluster dataset\n",
    "df['target'] = cluster_set['clusteringlabels']"
   ]
  },
  {
   "cell_type": "code",
   "execution_count": null,
   "metadata": {
    "colab": {
     "base_uri": "https://localhost:8080/"
    },
    "id": "8BYkBj5Q4nVl",
    "outputId": "f66ed466-9865-4540-e0d1-255bdc01ccc4"
   },
   "outputs": [],
   "source": [
    "df.columns"
   ]
  },
  {
   "cell_type": "code",
   "execution_count": null,
   "metadata": {
    "colab": {
     "base_uri": "https://localhost:8080/",
     "height": 507
    },
    "id": "wBGrritnzXJJ",
    "outputId": "356c5ad5-93d0-4f9d-d22d-dda187beac1c"
   },
   "outputs": [],
   "source": [
    "df.replace(\"à\", 'a', regex=True, inplace=True)\n",
    "df.replace(\"à\", 'a', regex=True, inplace=True)\n",
    "df.replace(\"è\", 'e', regex=True, inplace=True)\n",
    "df.replace(\"é\", 'e', regex=True, inplace=True)\n",
    "df.replace(\"ï\", 'i', regex=True, inplace=True)\n",
    "df[df['admin1']=='menaka']"
   ]
  },
  {
   "cell_type": "code",
   "execution_count": null,
   "metadata": {
    "colab": {
     "base_uri": "https://localhost:8080/",
     "height": 461
    },
    "id": "v2fwbs0bzbkJ",
    "outputId": "e343fb91-6dca-4953-abdd-4906369ff137"
   },
   "outputs": [],
   "source": [
    "df.head()"
   ]
  },
  {
   "cell_type": "code",
   "execution_count": null,
   "metadata": {
    "id": "z5CU5n2Wm3pA"
   },
   "outputs": [],
   "source": [
    "# removing all the burden data\n",
    "to_drop = ['GAM_Burden_R_rest', 'SAM_Burden_R_rest', 'MAM_Burden_R_rest', 'gam_burden', 'sam_burden', 'mam_burden']"
   ]
  },
  {
   "cell_type": "code",
   "execution_count": null,
   "metadata": {
    "colab": {
     "base_uri": "https://localhost:8080/",
     "height": 479
    },
    "id": "MuC8Pzjbzigh",
    "outputId": "1a808078-1612-4b82-dbe6-3d1bf4c0db66"
   },
   "outputs": [],
   "source": [
    "print(df.shape)\n",
    "df.head()"
   ]
  },
  {
   "cell_type": "code",
   "execution_count": null,
   "metadata": {
    "id": "sA31f4mKa1WX"
   },
   "outputs": [],
   "source": [
    "df.drop(to_drop, axis=1, inplace=True)"
   ]
  },
  {
   "cell_type": "code",
   "execution_count": null,
   "metadata": {
    "colab": {
     "base_uri": "https://localhost:8080/"
    },
    "id": "GYsdnV0R5HBI",
    "outputId": "b2d26b96-2bbf-4b3b-caf6-befe8c9087b2"
   },
   "outputs": [],
   "source": [
    "df.dtypes"
   ]
  },
  {
   "cell_type": "code",
   "execution_count": null,
   "metadata": {
    "colab": {
     "base_uri": "https://localhost:8080/",
     "height": 239
    },
    "id": "KcXARN_vsOSd",
    "outputId": "1f3c1b3a-a85c-4d9c-a9b4-a02bb3d95771"
   },
   "outputs": [],
   "source": [
    "df.describe(include=[object])"
   ]
  },
  {
   "cell_type": "code",
   "execution_count": null,
   "metadata": {
    "colab": {
     "base_uri": "https://localhost:8080/"
    },
    "id": "GZPvA_uf49DE",
    "outputId": "6f44c6a7-df7e-433a-b08d-e547c9c23382"
   },
   "outputs": [],
   "source": [
    "# checking the columns having object data type 'x'\n",
    "df['Food_Insecurity_Probability'].values\n",
    "\n",
    "def is_float(x):\n",
    "    try:\n",
    "        float(x)\n",
    "        return True\n",
    "    except ValueError:\n",
    "        return False\n",
    "\n",
    "\n",
    "print([x for x in df['Food_Insecurity_Probability'].values if is_float(x) == False])\n",
    "print([x for x in df['Food_Security'].values if is_float(x) == False])\n",
    "print([x for x in df['INFORM_Mortality_rate_under-5'].values if is_float(x) == False])"
   ]
  },
  {
   "cell_type": "code",
   "execution_count": null,
   "metadata": {
    "id": "BUxmfUVMrQx1"
   },
   "outputs": [],
   "source": [
    "# replacing 'x' by np.NaN\n",
    "df.loc[df['Food_Insecurity_Probability'] == 'x', 'Food_Insecurity_Probability'] = np.NaN\n",
    "df.loc[df['Food_Security'] == 'x', 'Food_Security'] = np.NaN\n",
    "df.loc[df['INFORM_Mortality_rate_under-5'] == 'x', 'INFORM_Mortality_rate_under-5'] = np.NaN\n",
    "\n",
    "df['Food_Insecurity_Probability'] = df['Food_Insecurity_Probability'].astype(float)\n",
    "df['Food_Security'] = df['Food_Security'].astype(float)\n",
    "df['INFORM_Mortality_rate_under-5'] = df['INFORM_Mortality_rate_under-5'].astype(float)"
   ]
  },
  {
   "cell_type": "code",
   "execution_count": null,
   "metadata": {
    "colab": {
     "base_uri": "https://localhost:8080/",
     "height": 381
    },
    "id": "F4QxPhA9sC50",
    "outputId": "e50a25bc-26b6-40e5-d041-9a65137c403c"
   },
   "outputs": [],
   "source": [
    "# checking integer columns\n",
    "df.describe(include=['number'])"
   ]
  },
  {
   "cell_type": "code",
   "execution_count": null,
   "metadata": {
    "id": "BowkzlEmT3V2"
   },
   "outputs": [],
   "source": [
    "# comparing the 50/ 75/ max values in the above table\n",
    "\n",
    "cols_for_transformation = ['population_totale', 'population_6-59_month',\t'mam_6-59_mois_prevalence', 'idps', 'Population_sans_acces_aux_structures_de_sante']\n",
    "\n",
    "for col in cols_for_transformation:\n",
    "  df[col] = np.log(df[col]+1)"
   ]
  },
  {
   "cell_type": "code",
   "execution_count": null,
   "metadata": {
    "colab": {
     "base_uri": "https://localhost:8080/"
    },
    "id": "1eVNJA4tAfEm",
    "outputId": "65db9391-fd75-4dae-f515-c9669aea1bd3"
   },
   "outputs": [],
   "source": [
    "# dropping duplicates in 2021\n",
    "df['key'] = df[\"country\"].astype(str) + df['admin1'].astype(str) + df['ADMIN_2_Admnistratif'].astype(str) + df['admin2_sanitary'].astype(str)\n",
    "df = df.loc[~(df.index.isin([783,781]))]\n",
    "print(df.shape)\n",
    "df['key'].value_counts()"
   ]
  },
  {
   "cell_type": "code",
   "execution_count": null,
   "metadata": {
    "colab": {
     "base_uri": "https://localhost:8080/"
    },
    "id": "VnvJNnQOAkzW",
    "outputId": "a2bd752f-68f6-4f25-faab-52465967a213"
   },
   "outputs": [],
   "source": [
    "#Intersection\n",
    "df = df[df['key'].map(df['key'].value_counts()) >= 3]\n",
    "print(df.shape)"
   ]
  },
  {
   "cell_type": "code",
   "execution_count": null,
   "metadata": {
    "colab": {
     "base_uri": "https://localhost:8080/"
    },
    "id": "2XLHECLTAnzK",
    "outputId": "b75a3059-dbaf-429d-b875-99e17a6875b7"
   },
   "outputs": [],
   "source": [
    "df.drop(['key'], axis=1, inplace=True)\n",
    "df.shape"
   ]
  },
  {
   "cell_type": "code",
   "execution_count": null,
   "metadata": {
    "colab": {
     "base_uri": "https://localhost:8080/"
    },
    "id": "6k9BX3wj5E4m",
    "outputId": "21a52acb-52f4-4869-e31a-19b6feaa5486"
   },
   "outputs": [],
   "source": [
    "# removing the columns having more than 70% missing values\n",
    "print(df.shape)\n",
    "df.drop(df.columns[df.isnull().sum(axis=0)/ df.shape[0] > 0.7], axis=1, inplace=True)"
   ]
  },
  {
   "cell_type": "code",
   "execution_count": null,
   "metadata": {
    "colab": {
     "base_uri": "https://localhost:8080/"
    },
    "id": "aBVxFLrn0rVp",
    "outputId": "7972141c-fba0-452a-d965-a2083b4ad668"
   },
   "outputs": [],
   "source": [
    "df.columns"
   ]
  },
  {
   "cell_type": "code",
   "execution_count": null,
   "metadata": {
    "colab": {
     "base_uri": "https://localhost:8080/"
    },
    "id": "tU_ixFoQ1mB_",
    "outputId": "64f64e68-bdcc-433e-e05e-66409d900d9d"
   },
   "outputs": [],
   "source": [
    "df.columns"
   ]
  },
  {
   "cell_type": "code",
   "execution_count": null,
   "metadata": {
    "id": "WsUKnyEP1sCr"
   },
   "outputs": [],
   "source": [
    "target_column = 'target'"
   ]
  },
  {
   "cell_type": "code",
   "execution_count": null,
   "metadata": {
    "colab": {
     "base_uri": "https://localhost:8080/"
    },
    "id": "5frdpJeU5ONH",
    "outputId": "50ca1bca-8fa9-47d7-9e23-dc1a2b2b60ec"
   },
   "outputs": [],
   "source": [
    "# target column has 14 missing values out of total 1102 values. Checking year wise split and removing those 14 rows\n",
    "df['target_null'] = df[target_column].isnull()\n",
    "\n",
    "print(df.groupby('year')['target_null'].count())\n",
    "\n",
    "print(df.groupby('year')['target_null'].sum())\n"
   ]
  },
  {
   "cell_type": "code",
   "execution_count": null,
   "metadata": {
    "id": "k55gf4Jsm5TT"
   },
   "outputs": [],
   "source": [
    "df = df.loc[df[target_column].isnull()==False, :]\n",
    "df.reset_index(drop=True, inplace=True)\n",
    "\n",
    "df.drop('target_null', axis=1, inplace=True)"
   ]
  },
  {
   "cell_type": "code",
   "execution_count": null,
   "metadata": {
    "id": "N1Ol_ZbV6vEg"
   },
   "outputs": [],
   "source": [
    "# seeing region wise distribution in different years\n",
    "area_distribution = df.groupby(['year', 'admin1'])['priority_level_validated_by_the_clusters'].count().reset_index()"
   ]
  },
  {
   "cell_type": "code",
   "execution_count": null,
   "metadata": {
    "colab": {
     "base_uri": "https://localhost:8080/",
     "height": 950
    },
    "id": "wUaaKKA3_Rak",
    "outputId": "36128ddf-ba94-4bb0-bac0-567ee13856bd"
   },
   "outputs": [],
   "source": [
    "for i,year in enumerate(area_distribution['year'].unique()):\n",
    "  data = area_distribution.loc[area_distribution['year'] == year, :]\n",
    "  print(\"Number of unique admin regions {}\".format(len(data['admin1'].unique())))\n",
    "  print(sorted(data['admin1'].unique()))\n",
    "  data.reset_index(drop=True, inplace=True)\n",
    "  data.sort_values(by='priority_level_validated_by_the_clusters', inplace=True, ascending=False)\n",
    "  plt.figure(figsize=(40,10))\n",
    "  plt.bar(data['admin1'], data['priority_level_validated_by_the_clusters'])\n",
    "  plt.xticks(rotation=45)\n",
    "  plt.xlabel('admin1')\n",
    "  plt.ylabel('Number of rows for {}'.format(year))\n",
    "  plt.show()"
   ]
  },
  {
   "cell_type": "code",
   "execution_count": null,
   "metadata": {
    "colab": {
     "base_uri": "https://localhost:8080/"
    },
    "id": "LGmNhiXk1C-6",
    "outputId": "7b768338-c400-4322-97ce-895f231c7566"
   },
   "outputs": [],
   "source": [
    "# dropping priority level validated by clusters & DS_ADMIN_2_Admnistratif_Burden_Data\n",
    "df.drop(['DS_ADMIN_2_Admnistratif_Burden_Data'], axis=1, inplace=True)\n",
    "df.drop(['priority_level_validated_by_the_clusters'], axis=1, inplace=True)\n",
    "print(df.shape)"
   ]
  },
  {
   "cell_type": "code",
   "execution_count": null,
   "metadata": {
    "id": "6AW8UrgAB0nO"
   },
   "outputs": [],
   "source": [
    "\n",
    "categorical_columns = []\n",
    "numerical_columns = []\n",
    "\n",
    "for col in df.columns:\n",
    "  if col != 'year':\n",
    "    if df[col].dtype == object:\n",
    "      categorical_columns.append(col)\n",
    "    elif df[col].dtype == 'float64':\n",
    "      numerical_columns.append(col)"
   ]
  },
  {
   "cell_type": "code",
   "execution_count": null,
   "metadata": {
    "colab": {
     "base_uri": "https://localhost:8080/"
    },
    "id": "jJRLnlFjhibV",
    "outputId": "ded7edbe-cafa-4269-e050-ca09dd85356e"
   },
   "outputs": [],
   "source": [
    "categorical_columns"
   ]
  },
  {
   "cell_type": "code",
   "execution_count": null,
   "metadata": {
    "colab": {
     "base_uri": "https://localhost:8080/"
    },
    "id": "62Vbw-p9TFFW",
    "outputId": "23dad75a-93d5-4c5f-c329-490a76f08243"
   },
   "outputs": [],
   "source": [
    "numerical_columns"
   ]
  },
  {
   "cell_type": "code",
   "execution_count": null,
   "metadata": {
    "colab": {
     "base_uri": "https://localhost:8080/"
    },
    "id": "O5S6ogRWi4Bc",
    "outputId": "e26d2fd3-5b13-4528-e867-1d9255680f40"
   },
   "outputs": [],
   "source": [
    "# encoding categorical columns to numerical columns\n",
    "from sklearn.preprocessing import LabelEncoder\n",
    "\n",
    "lbl = LabelEncoder()\n",
    "\n",
    "for var in categorical_columns:\n",
    "    df[var] = lbl.fit_transform(df[var])\n",
    "\n",
    "print(df.shape)"
   ]
  },
  {
   "cell_type": "code",
   "execution_count": null,
   "metadata": {
    "colab": {
     "base_uri": "https://localhost:8080/",
     "height": 850
    },
    "id": "7HN3WeipTG1-",
    "outputId": "63516061-0de0-413c-e02b-3df74c85740f"
   },
   "outputs": [],
   "source": [
    "# exploring correlation amongst columns having numerical values \n",
    "corr = df[numerical_columns].corr()\n",
    "\n",
    "fig, ax = plt.subplots()\n",
    "fig.set_figheight(60)\n",
    "fig.set_figwidth(60)\n",
    "sns.heatmap(df.corr(method='pearson'), annot=True, fmt='.4f', \n",
    "            cmap=plt.get_cmap('coolwarm'), cbar=False, ax=ax)\n",
    "ax.set_yticklabels(ax.get_yticklabels(), rotation=\"horizontal\")\n",
    "fig.savefig(\"out.png\")"
   ]
  },
  {
   "cell_type": "code",
   "execution_count": null,
   "metadata": {
    "colab": {
     "base_uri": "https://localhost:8080/"
    },
    "id": "rL_aB5eUTOuR",
    "outputId": "d73bfe14-5cb4-421f-8ae5-ff76a771505d"
   },
   "outputs": [],
   "source": [
    "# dropping features with correlation greater than 0.9 \n",
    "corr = df[numerical_columns].corr().abs()\n",
    "\n",
    "corr_cut_off = 0.9\n",
    "\n",
    "upper = corr.where(np.triu(np.ones(corr.shape), k=1).astype(np.bool))\n",
    "\n",
    "to_drop = [column for column in upper.columns if any(upper[column] > corr_cut_off)] "
   ]
  },
  {
   "cell_type": "code",
   "execution_count": null,
   "metadata": {
    "colab": {
     "base_uri": "https://localhost:8080/"
    },
    "id": "IZ-qB0ieVVmA",
    "outputId": "2881dcc0-6c46-4edc-cb64-c283fc2cfe50"
   },
   "outputs": [],
   "source": [
    "to_drop"
   ]
  },
  {
   "cell_type": "code",
   "execution_count": null,
   "metadata": {
    "id": "zIEUodlumBL1"
   },
   "outputs": [],
   "source": [
    "df.drop(to_drop, axis=1, inplace=True)"
   ]
  },
  {
   "cell_type": "code",
   "execution_count": null,
   "metadata": {
    "colab": {
     "base_uri": "https://localhost:8080/"
    },
    "id": "FqeO9uy3lmXJ",
    "outputId": "30e93518-cc1d-45f5-a786-5741c894cb87"
   },
   "outputs": [],
   "source": [
    "df.columns"
   ]
  },
  {
   "cell_type": "code",
   "execution_count": null,
   "metadata": {
    "colab": {
     "base_uri": "https://localhost:8080/"
    },
    "id": "2X68Y3eKiGj1",
    "outputId": "e2813180-b594-431b-faed-9bcd0f5a1175"
   },
   "outputs": [],
   "source": [
    "df['target'].value_counts()"
   ]
  },
  {
   "cell_type": "code",
   "execution_count": null,
   "metadata": {
    "colab": {
     "base_uri": "https://localhost:8080/"
    },
    "id": "yCpwBtGHiP5F",
    "outputId": "80bc9dde-e975-4990-e2b6-a8264cbaf3d1"
   },
   "outputs": [],
   "source": [
    "df.groupby('year')['target'].value_counts()"
   ]
  },
  {
   "cell_type": "code",
   "execution_count": null,
   "metadata": {
    "id": "30P7PRw4cNZA"
   },
   "outputs": [],
   "source": [
    "# feature 'year' used for splitting the data into train test\n",
    "target_column = 'target'"
   ]
  },
  {
   "cell_type": "code",
   "execution_count": null,
   "metadata": {
    "colab": {
     "base_uri": "https://localhost:8080/",
     "height": 283
    },
    "id": "d_JNaa-sdF0H",
    "outputId": "13bc5146-58e5-4770-9b24-156d52f2aff2"
   },
   "outputs": [],
   "source": [
    "df[target_column].hist()"
   ]
  },
  {
   "cell_type": "code",
   "execution_count": null,
   "metadata": {
    "colab": {
     "base_uri": "https://localhost:8080/",
     "height": 354
    },
    "id": "cVlqaRpN19rm",
    "outputId": "0a89f5a1-6a47-410d-f176-c77ae547b401"
   },
   "outputs": [],
   "source": [
    "df.groupby('year')['target'].hist()"
   ]
  },
  {
   "cell_type": "code",
   "execution_count": null,
   "metadata": {
    "id": "6Ef0OCVPlqIY"
   },
   "outputs": [],
   "source": [
    "# splitting the set into train and test set using the 'year'\n",
    "train = df.loc[df['year'] != 2022, :].reset_index(drop=True)\n",
    "test = df.loc[df['year'] == 2022, :].reset_index(drop=True)"
   ]
  },
  {
   "cell_type": "code",
   "execution_count": null,
   "metadata": {
    "id": "EAvvJYr_p9nn"
   },
   "outputs": [],
   "source": [
    "# removing the 'year' from the dataset (will lead to overfitting during training)\n",
    "train.drop('year', axis=1, inplace=True)\n",
    "test.drop('year', axis=1, inplace=True)"
   ]
  },
  {
   "cell_type": "code",
   "execution_count": null,
   "metadata": {
    "id": "4kJL61zwpgyo"
   },
   "outputs": [],
   "source": [
    "xtrain = train.loc[:, train.columns != 'target']\n",
    "ytrain = train['target']\n",
    "xtest = test.loc[:, train.columns != 'target']\n",
    "ytest = test['target']"
   ]
  },
  {
   "cell_type": "code",
   "execution_count": null,
   "metadata": {
    "id": "IzXeIduovdGu"
   },
   "outputs": [],
   "source": [
    "# qwk metric for calculating divergence regarding actual labels\n",
    "def sklearn_qwk(y_true, y_pred) -> np.float64:\n",
    "    \"\"\"\n",
    "    Function for measuring Quadratic Weighted Kappa with scikit-learn\n",
    "    \n",
    "    :param y_true: The ground truth labels\n",
    "    :param y_pred: The predicted labels\n",
    "    \n",
    "    :return The Quadratic Weighted Kappa Score (QWK)\n",
    "    \"\"\"\n",
    "    return cohen_kappa_score(y_true, y_pred, weights=\"quadratic\")"
   ]
  },
  {
   "cell_type": "code",
   "execution_count": null,
   "metadata": {
    "id": "pa3FWJ9i21mT"
   },
   "outputs": [],
   "source": [
    "def one_away_accuracy(y_true, y_pred) -> np.float64:\n",
    "    \"\"\"\n",
    "    Function for measuring 1-away-accuracy with scikit-learn\n",
    "    \n",
    "    :param y_true: The ground truth labels\n",
    "    :param y_pred: The predicted labels\n",
    "    \n",
    "    :return 1_away_accuracy (1_accuracy)\n",
    "    \"\"\"\n",
    "    labels = sorted(list(set(y_true)))\n",
    "    cmx_data = confusion_matrix(y_true, y_pred, labels=labels)\n",
    "\n",
    "    to_sum_list = []\n",
    "    \n",
    "    for i in range(cmx_data.shape[0]):\n",
    "        to_sum_list.append(cmx_data[i][i])\n",
    "\n",
    "    for i in range(1, cmx_data.shape[0]):\n",
    "        to_sum_list.append(cmx_data[i][i - 1])\n",
    "        to_sum_list.append(cmx_data[i-1][i])\n",
    "    \n",
    "    one_away_acc = sum(to_sum_list)/sum(np.concatenate(cmx_data))\n",
    "    return one_away_acc"
   ]
  },
  {
   "cell_type": "code",
   "execution_count": null,
   "metadata": {
    "id": "rmMRbav32JBu"
   },
   "outputs": [],
   "source": [
    "kappa_scorer = make_scorer(sklearn_qwk)\n",
    "one_acc_scorer = make_scorer(one_away_accuracy)"
   ]
  },
  {
   "cell_type": "code",
   "execution_count": null,
   "metadata": {
    "id": "1Oa26_IT406X"
   },
   "outputs": [],
   "source": [
    "# plotting confusion matrix\n",
    "def print_cmx(y_true, y_pred, label):\n",
    "    print(\"Confusion Matrix: {}\".format(label))\n",
    "    labels = sorted(list(set(y_true)))\n",
    "    cmx_data = confusion_matrix(y_true, y_pred, labels=labels)\n",
    "\n",
    "    df_cmx = pd.DataFrame(cmx_data, index=labels, columns=labels)\n",
    "\n",
    "    plt.figure(figsize=(10, 7))\n",
    "    sn.heatmap(df_cmx, annot=True)\n",
    "    plt.show()"
   ]
  },
  {
   "cell_type": "code",
   "execution_count": null,
   "metadata": {
    "id": "f8XIHCHU1u7o"
   },
   "outputs": [],
   "source": [
    "model_outputs = []"
   ]
  },
  {
   "cell_type": "markdown",
   "metadata": {
    "id": "oigDgNjkIsms"
   },
   "source": [
    "####Random Forest####"
   ]
  },
  {
   "cell_type": "code",
   "execution_count": null,
   "metadata": {
    "id": "Ca6t2er2pvAr"
   },
   "outputs": [],
   "source": [
    "# random forest parameter optimization\n",
    "# since KNN is a distance based algorithm we'll scale the features and then use imputation to fill the values.\n",
    "# creating a pipeline for all the algorithms\n",
    "pipe = Pipeline(steps=[\n",
    "    ('scale', MinMaxScaler()),\n",
    "    ('impute', KNNImputer(n_neighbors=3)),\n",
    "    ('rf', RandomForestClassifier(random_state=2021, n_estimators=200))\n",
    "])\n",
    "\n",
    "# we have a list of possible values for each hyperparameter\n",
    "params= { \n",
    "    'rf__max_features': ['auto', 'sqrt'],\n",
    "    'rf__max_depth' : [4,5,6,8],\n",
    "    'rf__min_samples_split': [2,5,10]\n",
    "}\n"
   ]
  },
  {
   "cell_type": "code",
   "execution_count": null,
   "metadata": {
    "id": "yJro0FmRBNmV"
   },
   "outputs": [],
   "source": [
    "feat = [x for x in xtrain.columns]"
   ]
  },
  {
   "cell_type": "code",
   "execution_count": null,
   "metadata": {
    "colab": {
     "base_uri": "https://localhost:8080/",
     "height": 1000
    },
    "id": "LrVWhiQm1mFk",
    "outputId": "4be90529-0aa9-4893-d442-38db1d61dcfd"
   },
   "outputs": [],
   "source": [
    "# 10 fold cross validation is used for hyperparameter tuning; \n",
    "#Creating RF only on accuracy score as others (one_away and QWK) shouldn't affect much\n",
    "\n",
    "clf = GridSearchCV(pipe, params, cv=10, n_jobs=-1, scoring='accuracy')\n",
    "\n",
    "clf.fit(xtrain[feat], ytrain)\n",
    "\n",
    "score = cross_val_score(clf.best_estimator_, xtrain[feat], ytrain, cv=10, scoring='accuracy')\n",
    "\n",
    "# saving the best model for RandomForest for stacking\n",
    "model_rf = clf.best_estimator_\n",
    "\n",
    "model_rf.fit(xtrain[feat], ytrain)\n",
    "\n",
    "pred = clf.best_estimator_.predict(xtest[feat])\n",
    "\n",
    "print(\"Classification Report for the test set with Accuracy as metric {}\".format(classification_report(ytest, pred)))\n",
    "\n",
    "print(model_rf)\n",
    "\n",
    "print_cmx(ytest, pred, \"Accuracy as Metric\")\n",
    "\n",
    "# storing All 3 results for each algo\n",
    "acc = accuracy_score(ytest, pred)\n",
    "qwk = sklearn_qwk(ytest, pred)\n",
    "one_away_acc = one_away_accuracy(ytest, pred)\n",
    "\n",
    "\n",
    "model_outputs.append({\n",
    "    'model': \"RandomForest\",\n",
    "    'cv_score_mean': score.mean(),\n",
    "    'cv_score_std': score.std(),\n",
    "    'test_accuracy': acc,\n",
    "    'test_qwk': qwk,\n",
    "    'test_one_away': one_away_acc\n",
    "})\n",
    "model_outputs\n"
   ]
  },
  {
   "cell_type": "markdown",
   "metadata": {
    "id": "xBK1-jwS1pN3"
   },
   "source": [
    "####Plots: Accuracy and SHAP####"
   ]
  },
  {
   "cell_type": "code",
   "execution_count": null,
   "metadata": {
    "colab": {
     "base_uri": "https://localhost:8080/",
     "height": 1000
    },
    "id": "6oYdskIfukfR",
    "outputId": "a8ef171b-abac-498b-ee86-410ac23b7b3e"
   },
   "outputs": [],
   "source": [
    "# SHAP values are calculated for each class individually - Accuracy\n",
    "explainer = shap.TreeExplainer(model_rf['rf'])\n",
    "shap_values = np.array(explainer.shap_values(xtrain[feat]))\n",
    "\n",
    "\n",
    "# feature importance for class i for loop\n",
    "for i in range(4):\n",
    "    print(\"****** Feature importances for class \" + str(i) +\" ******\")\n",
    "    shap.summary_plot(shap_values[i], xtrain[feat], plot_type=\"bar\")\n",
    "    shap.summary_plot(shap_values[i], features=xtrain[feat], feature_names=feat)"
   ]
  },
  {
   "cell_type": "code",
   "execution_count": null,
   "metadata": {
    "colab": {
     "base_uri": "https://localhost:8080/",
     "height": 1000
    },
    "id": "xHe4KqJy01L1",
    "outputId": "58ec18c3-e387-497c-99ac-24522c248fc0"
   },
   "outputs": [],
   "source": [
    "# code for drawing all dependency plots between features\n",
    "for j in range(4):\n",
    "  for i in range(len(feat)):\n",
    "    print(\"****** Dependency plots for feature \" + str(i) +\" ******\")\n",
    "    shap.dependence_plot(i, shap_values[j], xtrain[feat]) "
   ]
  },
  {
   "cell_type": "markdown",
   "metadata": {
    "id": "4suQkkE_01L1"
   },
   "source": [
    "####LightGBM####"
   ]
  },
  {
   "cell_type": "code",
   "execution_count": null,
   "metadata": {
    "id": "eaw-TwY1259J"
   },
   "outputs": [],
   "source": [
    "# lightgbm hyperparameter tuning\n",
    "pipe = Pipeline(steps=[\n",
    "    ('scale', MinMaxScaler()),\n",
    "    ('impute', KNNImputer(n_neighbors=3)),\n",
    "    ('lgb', lgb.LGBMClassifier(random_state=2021, n_estimators=200))\n",
    "])\n",
    "\n",
    "params = {'lgb__max_depth': [4, 6, 8],\n",
    "                   'lgb__num_leaves': [16, 32],\n",
    "                   'lgb__colsample_bytree': [0.65, 0.75, 0.9], \n",
    "                   'lgb__subsample': [0.7, 0.8, 0.9]}"
   ]
  },
  {
   "cell_type": "code",
   "execution_count": null,
   "metadata": {
    "colab": {
     "base_uri": "https://localhost:8080/",
     "height": 1000
    },
    "id": "LRZP03VALNl3",
    "outputId": "61a52280-7d44-455f-c474-2c45c0a4bdf7"
   },
   "outputs": [],
   "source": [
    "# Making two Lgb models; one which does parameter tuning on accuracy other on QWK\n",
    "\n",
    "# 10 fold cross validation is used for hyperparameter tuning using accuracy\n",
    "\n",
    "clf_acc = GridSearchCV(pipe, params, cv=10, n_jobs=-1, scoring='accuracy')\n",
    "\n",
    "clf_acc.fit(xtrain[feat], ytrain)\n",
    "\n",
    "score = cross_val_score(clf_acc.best_estimator_, xtrain[feat], ytrain, cv=10, scoring='accuracy')\n",
    "\n",
    "model_lgb_acc = clf_acc.best_estimator_\n",
    "\n",
    "model_lgb_acc.fit(xtrain[feat], ytrain)\n",
    "\n",
    "pred = clf_acc.best_estimator_.predict(xtest[feat])\n",
    "\n",
    "print(\"Classification Report for the test set with Accuracy as metric {}\".format(classification_report(ytest, pred)))\n",
    "\n",
    "print_cmx(ytest, pred, \"Accuracy as Metric\")\n",
    "\n",
    "acc = accuracy_score(ytest, pred)\n",
    "qwk = sklearn_qwk(ytest, pred)\n",
    "one_away_acc = one_away_accuracy(ytest, pred)\n",
    "\n",
    "model_outputs.append({\n",
    "    'model': \"LightGBM_acc\",\n",
    "    'cv_score_mean': score.mean(),\n",
    "    'cv_score_std': score.std(),\n",
    "    'test_accuracy': acc,\n",
    "    'test_qwk': qwk,\n",
    "    'test_one_away': one_away_acc\n",
    "})\n",
    "\n",
    "# 10 fold cross validation is used for hyperparameter tuning using QWK\n",
    "clf_qwk = GridSearchCV(pipe, params, cv=10, n_jobs=-1, scoring=kappa_scorer)\n",
    "\n",
    "clf_qwk.fit(xtrain[feat], ytrain)\n",
    "\n",
    "score_qwk = cross_val_score(clf_qwk.best_estimator_, xtrain[feat], ytrain, cv=10, scoring='accuracy')\n",
    "\n",
    "model_lgb_qwk = clf_qwk.best_estimator_\n",
    "\n",
    "model_lgb_qwk.fit(xtrain[feat], ytrain)\n",
    "\n",
    "pred = clf_qwk.best_estimator_.predict(xtest[feat])\n",
    "\n",
    "print(\"Classification Report for the test set with QWK as metric {}\".format(classification_report(ytest, pred)))\n",
    "\n",
    "print_cmx(ytest, pred, \"QWK as Metric\")\n",
    "\n",
    "acc = accuracy_score(ytest, pred)\n",
    "qwk = sklearn_qwk(ytest, pred)\n",
    "one_away_acc = one_away_accuracy(ytest, pred)\n",
    "\n",
    "model_outputs.append({\n",
    "    'model': \"LightGBM_qwk\",\n",
    "    'cv_score_mean': score.mean(),\n",
    "    'cv_score_std': score.std(),\n",
    "    'test_accuracy': acc,\n",
    "    'test_qwk': qwk,\n",
    "    'test_one_away': one_away_acc\n",
    "})"
   ]
  },
  {
   "cell_type": "code",
   "execution_count": null,
   "metadata": {
    "colab": {
     "base_uri": "https://localhost:8080/"
    },
    "id": "WCVd0o6M-uma",
    "outputId": "8abc4622-70bd-4159-a97e-afb764fbfcba"
   },
   "outputs": [],
   "source": [
    "model_outputs"
   ]
  },
  {
   "cell_type": "markdown",
   "metadata": {
    "id": "7VY7r4hc01L2"
   },
   "source": [
    "####Another Step on LightGBM####"
   ]
  },
  {
   "cell_type": "code",
   "execution_count": null,
   "metadata": {
    "id": "kzZdAjuYKhVa"
   },
   "outputs": [],
   "source": [
    "# using an additional step to use lightgbm's inbuilt capacility to handle missing values\n",
    "pipe = Pipeline(steps=[\n",
    "    ('lgb', lgb.LGBMClassifier(random_state=2021, n_estimators=200))\n",
    "])\n",
    "\n",
    "params = {'lgb__max_depth': [4, 6, 8],\n",
    "                   'lgb__num_leaves': [16, 32],\n",
    "                   'lgb__colsample_bytree': [0.65, 0.75, 0.9], \n",
    "                   'lgb__subsample': [0.7, 0.8, 0.9]}"
   ]
  },
  {
   "cell_type": "code",
   "execution_count": null,
   "metadata": {
    "colab": {
     "base_uri": "https://localhost:8080/",
     "height": 1000
    },
    "id": "NjMs9yu8LNl4",
    "outputId": "c83655dc-fbf9-48fd-8124-5bd73a27e404"
   },
   "outputs": [],
   "source": [
    "# 10 fold cross validation is used for hyperparameter tuning with accuracy\n",
    "clf = GridSearchCV(pipe, params, cv=10, n_jobs=-1, scoring='accuracy')\n",
    "\n",
    "clf.fit(xtrain, ytrain)\n",
    "\n",
    "score = cross_val_score(clf.best_estimator_, xtrain, ytrain, cv=10, scoring='accuracy')\n",
    "\n",
    "model_lgb_noimp = clf.best_estimator_\n",
    "\n",
    "model_lgb_noimp.fit(xtrain, ytrain)\n",
    "\n",
    "pred = clf.best_estimator_.predict(xtest)\n",
    "\n",
    "print(\"Classification Report for the test set with Accuracy as metric {}\".format(classification_report(ytest, pred)))\n",
    "\n",
    "print_cmx(ytest, pred, \"Accuracy as Metric\")\n",
    "\n",
    "acc = accuracy_score(ytest, pred)\n",
    "qwk = sklearn_qwk(ytest, pred)\n",
    "one_away_acc = one_away_accuracy(ytest, pred)\n",
    "\n",
    "model_outputs.append({\n",
    "    'model': \"LightGBM_no_imputation_acc\",\n",
    "    'cv_score_mean': score.mean(),\n",
    "    'cv_score_std': score.std(),\n",
    "    'test_accuracy': acc,\n",
    "    'test_qwk': qwk,\n",
    "    'test_one_away': one_away_acc\n",
    "})\n",
    "\n",
    "# 10fold cross validation is used for hyperparameter tuning with QWK\n",
    "clf = GridSearchCV(pipe, params, cv=10, n_jobs=-1, scoring=kappa_scorer)\n",
    "\n",
    "clf.fit(xtrain, ytrain)\n",
    "\n",
    "score_qwk = cross_val_score(clf.best_estimator_, xtrain, ytrain, cv=10, scoring='accuracy')\n",
    "\n",
    "model_lgb_qwk_noimp = clf.best_estimator_\n",
    "\n",
    "model_lgb_qwk_noimp.fit(xtrain, ytrain)\n",
    "\n",
    "pred = clf.best_estimator_.predict(xtest)\n",
    "\n",
    "print(\"Classification Report for the test set with QWK as metric {}\".format(classification_report(ytest, pred)))\n",
    "\n",
    "print_cmx(ytest, pred, \"QWK as Metric\")\n",
    "\n",
    "acc = accuracy_score(ytest, pred)\n",
    "qwk = sklearn_qwk(ytest, pred)\n",
    "one_away_acc = one_away_accuracy(ytest, pred)\n",
    "\n",
    "model_outputs.append({\n",
    "    'model': \"LightGBM_no_imputation_qwk\",\n",
    "    'cv_score_mean': score.mean(),\n",
    "    'cv_score_std': score.std(),\n",
    "    'test_accuracy': acc,\n",
    "    'test_qwk': qwk,\n",
    "    'test_one_away': one_away_acc\n",
    "})"
   ]
  },
  {
   "cell_type": "code",
   "execution_count": null,
   "metadata": {
    "colab": {
     "base_uri": "https://localhost:8080/"
    },
    "id": "AFU8F1pX_LeU",
    "outputId": "bff8f324-c8bb-49b6-d4a4-44c2542590a7"
   },
   "outputs": [],
   "source": [
    "model_outputs"
   ]
  },
  {
   "cell_type": "markdown",
   "metadata": {
    "id": "Lr2-bV7Q13dV"
   },
   "source": [
    "####Plots: Accuracy and SHAP####\n"
   ]
  },
  {
   "cell_type": "code",
   "execution_count": null,
   "metadata": {
    "colab": {
     "base_uri": "https://localhost:8080/",
     "height": 1000
    },
    "id": "9svOof_VJPb-",
    "outputId": "0e0250b8-7eba-4aac-d6ad-6d595cf7a2ad"
   },
   "outputs": [],
   "source": [
    "# SHAP values are calculated for each class individually\n",
    "explainer = shap.TreeExplainer(model_lgb_noimp['lgb'])\n",
    "\n",
    "shap_values = np.array(explainer.shap_values(xtrain))\n",
    "\n",
    "# feature importance for class i for loop\n",
    "for i in range(4):\n",
    "    print(\"****** Feature importances for class \" + str(i) +\" ******\")\n",
    "    shap.summary_plot(shap_values[i], xtrain[feat], plot_type=\"bar\")\n",
    "    shap.summary_plot(shap_values[i], features=xtrain[feat], feature_names=feat)"
   ]
  },
  {
   "cell_type": "code",
   "execution_count": null,
   "metadata": {
    "colab": {
     "base_uri": "https://localhost:8080/",
     "height": 1000
    },
    "id": "OaBLkPH-01L4",
    "outputId": "767691c3-f422-489c-a52a-569b5ac1674f"
   },
   "outputs": [],
   "source": [
    "for j in range(4):\n",
    "  for i in range(len(feat)):\n",
    "    print(\"****** Dependency plots for feature \" + str(i) +\" ******\")\n",
    "    shap.dependence_plot(i, shap_values[j], xtrain[feat]) "
   ]
  },
  {
   "cell_type": "code",
   "execution_count": null,
   "metadata": {
    "colab": {
     "base_uri": "https://localhost:8080/",
     "height": 750
    },
    "id": "ZeRaVrGv59yp",
    "outputId": "7b4dc697-5cce-4d41-823f-216018eba306"
   },
   "outputs": [],
   "source": [
    "# normal Feature Importance: Choose a value of top k and dispaly top_k features of the model\n",
    "\n",
    "top_k = 15\n",
    "\n",
    "importances = pd.DataFrame()\n",
    "importances ['feature'] = feat\n",
    "importances ['feature_imp'] = clf.best_estimator_.named_steps[\"lgb\"].feature_importances_\n",
    "\n",
    "print(\"Feature_Imp\")\n",
    "\n",
    "plt.figure(figsize = (8, 12))\n",
    "sns.barplot(x = 'feature_imp', y = 'feature', data=importances.sort_values('feature_imp', ascending=False).head(top_k))"
   ]
  },
  {
   "cell_type": "code",
   "execution_count": null,
   "metadata": {
    "colab": {
     "base_uri": "https://localhost:8080/",
     "height": 1000
    },
    "id": "FtD84d8O01L5",
    "outputId": "e05ac4f9-f5dd-40f1-a62c-ca9d3b9d5793"
   },
   "outputs": [],
   "source": [
    "importances"
   ]
  },
  {
   "cell_type": "markdown",
   "metadata": {
    "id": "szls07K101L5"
   },
   "source": [
    "####XGBoost####"
   ]
  },
  {
   "cell_type": "code",
   "execution_count": null,
   "metadata": {
    "id": "BwW2b6w62uEU"
   },
   "outputs": [],
   "source": [
    "# xgboost hyperparameter tuning\n",
    "pipe = Pipeline(steps=[\n",
    "    ('scale', MinMaxScaler()),\n",
    "    ('impute', KNNImputer(n_neighbors=3)),\n",
    "    ('xgb', xgb.XGBClassifier(random_state=2021, n_estimators=200, min_child_weight=3, use_label_encoder=True, eval_metric='mlogloss'))\n",
    "])\n",
    "\n",
    "params =  {\n",
    "        'xgb__max_depth': [3, 5, 8],\n",
    "        'xgb__subsample': [0.5, 0.7, 0.9],\n",
    "        'xgb__colsample_bytree': [0.5, 0.7, 0.9],\n",
    "    }"
   ]
  },
  {
   "cell_type": "code",
   "execution_count": null,
   "metadata": {
    "colab": {
     "base_uri": "https://localhost:8080/"
    },
    "id": "tDkLCwYULnEL",
    "outputId": "59d556f5-7a1a-4c04-da0d-a0a461498c73"
   },
   "outputs": [],
   "source": [
    "ytrain.value_counts()"
   ]
  },
  {
   "cell_type": "code",
   "execution_count": null,
   "metadata": {
    "colab": {
     "base_uri": "https://localhost:8080/",
     "height": 1000
    },
    "id": "XlOPeTQoLNl6",
    "outputId": "f0c1ee5c-f42f-4604-9299-4d3ec929af8b"
   },
   "outputs": [],
   "source": [
    "# 10 fold cross validation is used for hyperparameter tuning with accuracy\n",
    "clf = GridSearchCV(pipe, params, cv=10, n_jobs=-1, scoring='accuracy')\n",
    "\n",
    "clf.fit(xtrain, ytrain)\n",
    "\n",
    "score = cross_val_score(clf.best_estimator_, xtrain, ytrain, cv=10, scoring='accuracy')\n",
    "\n",
    "model_xgb = clf.best_estimator_\n",
    "\n",
    "model_xgb.fit(xtrain, ytrain)\n",
    "\n",
    "pred = clf.best_estimator_.predict(xtest)\n",
    "\n",
    "print(\"Classification Report for the test set with Accuracy as metric {}\".format(classification_report(ytest, pred)))\n",
    "\n",
    "print_cmx(ytest, pred, \"Accuracy as Metric\")\n",
    "\n",
    "acc = accuracy_score(ytest, pred)\n",
    "qwk = sklearn_qwk(ytest, pred)\n",
    "one_away_acc = one_away_accuracy(ytest, pred)\n",
    "\n",
    "model_outputs.append({\n",
    "    'model': \"XGBoost_acc\",\n",
    "    'cv_score_mean': score.mean(),\n",
    "    'cv_score_std': score.std(),\n",
    "    'test_accuracy': acc,\n",
    "    'test_qwk': qwk,\n",
    "    'test_one_away': one_away_acc\n",
    "})\n",
    "\n",
    "# 10fold cross validation is used for hyperparameter tuning with QWK\n",
    "clf = GridSearchCV(pipe, params, cv=10, n_jobs=-1, scoring=kappa_scorer)\n",
    "\n",
    "clf.fit(xtrain, ytrain)\n",
    "\n",
    "score_qwk = cross_val_score(clf.best_estimator_, xtrain, ytrain, cv=10, scoring='accuracy')\n",
    "\n",
    "model_xgb_qwk = clf.best_estimator_\n",
    "\n",
    "model_xgb_qwk.fit(xtrain, ytrain)\n",
    "\n",
    "pred = clf.best_estimator_.predict(xtest)\n",
    "\n",
    "print(\"Classification Report for the test set with QWK as metric {}\".format(classification_report(ytest, pred)))\n",
    "\n",
    "print_cmx(ytest, pred, \"QWK as Metric\")\n",
    "\n",
    "acc_qwk = accuracy_score(ytest, pred)\n",
    "\n",
    "model_outputs.append({\n",
    "    'model': \"XGBoost_qwk\",\n",
    "    'cv_score_mean': score.mean(),\n",
    "    'cv_score_std': score.std(),\n",
    "    'test_accuracy': acc,\n",
    "    'test_qwk': qwk,\n",
    "    'test_one_away': one_away_acc\n",
    "})\n"
   ]
  },
  {
   "cell_type": "code",
   "execution_count": null,
   "metadata": {
    "colab": {
     "base_uri": "https://localhost:8080/"
    },
    "id": "ZjSEkF1U_6SN",
    "outputId": "a805aef8-5121-4ba5-9c64-5ec2f9c55e90"
   },
   "outputs": [],
   "source": [
    "model_outputs"
   ]
  },
  {
   "cell_type": "markdown",
   "metadata": {
    "id": "zXijM06I01L6"
   },
   "source": [
    "###Another Step for XGboost###"
   ]
  },
  {
   "cell_type": "code",
   "execution_count": null,
   "metadata": {
    "id": "TCTrv7EBNavH"
   },
   "outputs": [],
   "source": [
    "# xgboost hyperparameter tuning\n",
    "pipe = Pipeline(steps=[\n",
    "  ('xgb', xgb.XGBClassifier(random_state=2021, n_estimators=200, min_child_weight=3, use_label_encoder=True, eval_metric='mlogloss'))\n",
    "])\n",
    "\n",
    "params =  {\n",
    "        'xgb__max_depth': [3, 5, 8],\n",
    "        'xgb__subsample': [0.5, 0.7, 0.9],\n",
    "        'xgb__colsample_bytree': [0.5, 0.7, 0.9],\n",
    "    }"
   ]
  },
  {
   "cell_type": "code",
   "execution_count": null,
   "metadata": {
    "colab": {
     "base_uri": "https://localhost:8080/",
     "height": 1000
    },
    "id": "rBMQ_IynLNl8",
    "outputId": "48e4df5c-f3e5-45fa-8b8f-43492051ddfc"
   },
   "outputs": [],
   "source": [
    "# 10 fold cross validation is used for hyperparameter tuning\n",
    "clf = GridSearchCV(pipe, params, cv=10, n_jobs=-1, scoring='accuracy')\n",
    "\n",
    "clf.fit(xtrain, ytrain)\n",
    "\n",
    "score = cross_val_score(clf.best_estimator_, xtrain, ytrain, cv=10, scoring='accuracy')\n",
    "\n",
    "model_xgb_noimp = clf.best_estimator_\n",
    "\n",
    "model_xgb_noimp.fit(xtrain, ytrain)\n",
    "\n",
    "pred = clf.best_estimator_.predict(xtest)\n",
    "\n",
    "print(\"Classification Report for the test set with Accuracy as metric {}\".format(classification_report(ytest, pred)))\n",
    "\n",
    "print_cmx(ytest, pred, \"Accuracy as Metric\")\n",
    "\n",
    "acc = accuracy_score(ytest, pred)\n",
    "qwk = sklearn_qwk(ytest, pred)\n",
    "one_away_acc = one_away_accuracy(ytest, pred)\n",
    "\n",
    "model_outputs.append({\n",
    "    'model': \"XGBoost_no_imputation_acc\",\n",
    "    'cv_score_mean': score.mean(),\n",
    "    'cv_score_std': score.std(),\n",
    "    'test_accuracy': acc,\n",
    "    'test_qwk': qwk,\n",
    "    'test_one_away': one_away_acc\n",
    "})\n",
    "\n",
    "# 10fold cross validation is used for hyperparameter tuning\n",
    "clf = GridSearchCV(pipe, params, cv=10, n_jobs=-1, scoring=kappa_scorer)\n",
    "\n",
    "clf.fit(xtrain, ytrain)\n",
    "\n",
    "score_qwk = cross_val_score(clf.best_estimator_, xtrain, ytrain, cv=10, scoring='accuracy')\n",
    "\n",
    "model_xgb_qwk_noimp = clf.best_estimator_\n",
    "\n",
    "model_xgb_qwk_noimp.fit(xtrain, ytrain)\n",
    "\n",
    "pred = clf.best_estimator_.predict(xtest)\n",
    "\n",
    "print(\"Classification Report for the test set with QWK as metric {}\".format(classification_report(ytest, pred)))\n",
    "\n",
    "print_cmx(ytest, pred, \"QWK as Metric\")\n",
    "\n",
    "acc = accuracy_score(ytest, pred)\n",
    "qwk = sklearn_qwk(ytest, pred)\n",
    "one_away_acc = one_away_accuracy(ytest, pred)\n",
    "\n",
    "model_outputs.append({\n",
    "    'model': \"XGBoost_no_imputation_qwk\",\n",
    "    'cv_score_mean': score.mean(),\n",
    "    'cv_score_std': score.std(),\n",
    "    'test_accuracy': acc,\n",
    "    'test_qwk': qwk,\n",
    "    'test_one_away': one_away_acc\n",
    "})\n",
    "\n"
   ]
  },
  {
   "cell_type": "code",
   "execution_count": null,
   "metadata": {
    "colab": {
     "base_uri": "https://localhost:8080/"
    },
    "id": "Va2rOfN2AL2M",
    "outputId": "b5827d0e-547f-4883-a6f8-8ddbfb78a526"
   },
   "outputs": [],
   "source": [
    "model_outputs"
   ]
  },
  {
   "cell_type": "markdown",
   "metadata": {
    "id": "ZCwSt_nD1-iQ"
   },
   "source": [
    "####Plots: Accuracy and SHAP####\n"
   ]
  },
  {
   "cell_type": "code",
   "execution_count": null,
   "metadata": {
    "colab": {
     "base_uri": "https://localhost:8080/",
     "height": 1000
    },
    "id": "_i-NiIZnRHBQ",
    "outputId": "873f7380-d8d2-4e6f-9726-f7de1ae5f89f"
   },
   "outputs": [],
   "source": [
    "# SHAP values are calculated for each class individually\n",
    "explainer = shap.TreeExplainer(model_xgb_noimp['xgb'])\n",
    "\n",
    "shap_values = np.array(explainer.shap_values(xtrain))\n",
    "\n",
    "# feature importance for class i for loop\n",
    "for i in range(4):\n",
    "    print(\"****** Feature importances for class \" + str(i) +\" ******\")\n",
    "    shap.summary_plot(shap_values[i], xtrain[feat], plot_type=\"bar\")\n",
    "    shap.summary_plot(shap_values[i], features=xtrain[feat], feature_names=feat)"
   ]
  },
  {
   "cell_type": "code",
   "execution_count": null,
   "metadata": {
    "colab": {
     "base_uri": "https://localhost:8080/",
     "height": 1000
    },
    "id": "ymObyRPg01L9",
    "outputId": "0081b540-449d-4b25-c8f7-1c9734b35f76"
   },
   "outputs": [],
   "source": [
    "# make dependency plots of all the features for class j\n",
    "for j in range(4):\n",
    "  for i in range(len(feat)):\n",
    "    print(\"****** Dependency plots for feature \" + str(i) +\" ******\")\n",
    "    shap.dependence_plot(i, shap_values[j], xtrain[feat]) "
   ]
  },
  {
   "cell_type": "code",
   "execution_count": null,
   "metadata": {
    "colab": {
     "base_uri": "https://localhost:8080/",
     "height": 750
    },
    "id": "NwGtJLMg7Blo",
    "outputId": "c04cf106-df46-4037-b1af-f06323cefb4e"
   },
   "outputs": [],
   "source": [
    "#Normal Feature Importance: Choose a value of top k and dispaly top_k features of the model\n",
    "\n",
    "top_k = 15\n",
    "\n",
    "importances = pd.DataFrame()\n",
    "importances ['feature'] = feat\n",
    "importances ['feature_imp'] = clf.best_estimator_.named_steps[\"xgb\"].feature_importances_\n",
    "\n",
    "print(\"Feature_Imp\")\n",
    "\n",
    "plt.figure(figsize = (8, 12))\n",
    "sns.barplot(x = 'feature_imp', y = 'feature', data=importances.sort_values('feature_imp', ascending=False).head(top_k))"
   ]
  },
  {
   "cell_type": "code",
   "execution_count": null,
   "metadata": {
    "colab": {
     "base_uri": "https://localhost:8080/",
     "height": 1000
    },
    "id": "O13FU95h01L-",
    "outputId": "0a8fa894-683b-4461-f1c3-1e67a3f17ce5"
   },
   "outputs": [],
   "source": [
    "importances"
   ]
  },
  {
   "cell_type": "markdown",
   "metadata": {
    "id": "oBTb5ML401L-"
   },
   "source": [
    "####SVM####"
   ]
  },
  {
   "cell_type": "code",
   "execution_count": null,
   "metadata": {
    "id": "u7V77w2kRJ1X"
   },
   "outputs": [],
   "source": [
    "# for svm model we need to scale the numerical column - se define a pipeline\n",
    "pipe = Pipeline(steps=[\n",
    "    ('scale', MinMaxScaler()),\n",
    "    ('impute', KNNImputer(n_neighbors=3)),\n",
    "    ('svm', SVC(random_state=2021))\n",
    "])\n",
    "\n",
    "# defining parameter grid for finding the optimal C value using the training data\n",
    "params = {'svm__C':[0.01, 10, 100, 1000, 2500, 5000]}"
   ]
  },
  {
   "cell_type": "code",
   "execution_count": null,
   "metadata": {
    "colab": {
     "base_uri": "https://localhost:8080/",
     "height": 1000
    },
    "id": "i8RKYMOKLNl9",
    "outputId": "b8f7bfc6-478a-4c65-9e8d-97d33697a492"
   },
   "outputs": [],
   "source": [
    "# 10 fold cross validation is used for hyperparameter tuning\n",
    "clf = GridSearchCV(pipe, params, cv=10, n_jobs=-1, scoring='accuracy')\n",
    "\n",
    "clf.fit(xtrain, ytrain)\n",
    "\n",
    "score = cross_val_score(clf.best_estimator_, xtrain, ytrain, cv=10, scoring='accuracy')\n",
    "\n",
    "model_svm = clf.best_estimator_\n",
    "\n",
    "model_svm.fit(xtrain, ytrain)\n",
    "\n",
    "pred = clf.best_estimator_.predict(xtest)\n",
    "\n",
    "print(\"Classification Report for the test set with Accuracy as metric {}\".format(classification_report(ytest, pred)))\n",
    "\n",
    "print_cmx(ytest, pred, \"Accuracy as Metric\")\n",
    "\n",
    "acc = accuracy_score(ytest, pred)\n",
    "qwk = sklearn_qwk(ytest, pred)\n",
    "one_away_acc = one_away_accuracy(ytest, pred)\n",
    "\n",
    "model_outputs.append({\n",
    "    'model': \"SVC_acc\",\n",
    "    'cv_score_mean': score.mean(),\n",
    "    'cv_score_std': score.std(),\n",
    "    'test_accuracy': acc,\n",
    "    'test_qwk': qwk,\n",
    "    'test_one_away': one_away_acc\n",
    "})\n",
    "\n",
    "# 10fold cross validation is used for hyperparameter tuning\n",
    "clf = GridSearchCV(pipe, params, cv=10, n_jobs=-1, scoring=kappa_scorer)\n",
    "\n",
    "clf.fit(xtrain, ytrain)\n",
    "\n",
    "score_qwk = cross_val_score(clf.best_estimator_, xtrain, ytrain, cv=10, scoring='accuracy')\n",
    "\n",
    "model_svm_qwk = clf.best_estimator_\n",
    "\n",
    "model_svm_qwk.fit(xtrain, ytrain)\n",
    "\n",
    "pred = clf.best_estimator_.predict(xtest)\n",
    "\n",
    "print(\"Classification Report for the test set with QWK as metric {}\".format(classification_report(ytest, pred)))\n",
    "\n",
    "print_cmx(ytest, pred, \"QWK as Metric\")\n",
    "\n",
    "acc = accuracy_score(ytest, pred)\n",
    "qwk = sklearn_qwk(ytest, pred)\n",
    "one_away_acc = one_away_accuracy(ytest, pred)\n",
    "\n",
    "model_outputs.append({\n",
    "    'model': \"SVC_qwk\",\n",
    "    'cv_score_mean': score.mean(),\n",
    "    'cv_score_std': score.std(),\n",
    "    'test_accuracy': acc,\n",
    "    'test_qwk': qwk,\n",
    "    'test_one_away': one_away_acc\n",
    "})"
   ]
  },
  {
   "cell_type": "code",
   "execution_count": null,
   "metadata": {
    "colab": {
     "base_uri": "https://localhost:8080/"
    },
    "id": "XETfoHtUAorD",
    "outputId": "056b49d4-46ae-4ff0-f61e-e82d07844480"
   },
   "outputs": [],
   "source": [
    "model_outputs"
   ]
  },
  {
   "cell_type": "markdown",
   "metadata": {
    "id": "8Gq7FdVR2V9P"
   },
   "source": [
    "####Summary Results of All Models####\n"
   ]
  },
  {
   "cell_type": "code",
   "execution_count": null,
   "metadata": {
    "id": "oQURbHbCgV41"
   },
   "outputs": [],
   "source": [
    "# Summary of performance of all the models\n",
    "\n",
    "data_df = pd.DataFrame(model_outputs)"
   ]
  },
  {
   "cell_type": "code",
   "execution_count": null,
   "metadata": {
    "colab": {
     "base_uri": "https://localhost:8080/",
     "height": 394
    },
    "id": "pAc2liYIUygx",
    "outputId": "882e11ad-a281-4b37-9659-fd31f866b1e6"
   },
   "outputs": [],
   "source": [
    "data_df"
   ]
  }
 ],
 "metadata": {
  "colab": {
   "collapsed_sections": [],
   "name": "Confilict_Mean_RemoveBurdens_intersection-1.ipynb",
   "provenance": []
  },
  "kernelspec": {
   "display_name": "Python 3 (ipykernel)",
   "language": "python",
   "name": "python3"
  },
  "language_info": {
   "codemirror_mode": {
    "name": "ipython",
    "version": 3
   },
   "file_extension": ".py",
   "mimetype": "text/x-python",
   "name": "python",
   "nbconvert_exporter": "python",
   "pygments_lexer": "ipython3",
   "version": "3.10.9"
  },
  "widgets": {
   "application/vnd.jupyter.widget-state+json": {
    "21f7da55d5964b3292b54305ca9638eb": {
     "model_module": "@jupyter-widgets/controls",
     "model_module_version": "1.5.0",
     "model_name": "DescriptionStyleModel",
     "state": {
      "_model_module": "@jupyter-widgets/controls",
      "_model_module_version": "1.5.0",
      "_model_name": "DescriptionStyleModel",
      "_view_count": null,
      "_view_module": "@jupyter-widgets/base",
      "_view_module_version": "1.2.0",
      "_view_name": "StyleView",
      "description_width": ""
     }
    },
    "3a725fec4096425ba9679633615067f5": {
     "model_module": "@jupyter-widgets/base",
     "model_module_version": "1.2.0",
     "model_name": "LayoutModel",
     "state": {
      "_model_module": "@jupyter-widgets/base",
      "_model_module_version": "1.2.0",
      "_model_name": "LayoutModel",
      "_view_count": null,
      "_view_module": "@jupyter-widgets/base",
      "_view_module_version": "1.2.0",
      "_view_name": "LayoutView",
      "align_content": null,
      "align_items": null,
      "align_self": null,
      "border": null,
      "bottom": null,
      "display": null,
      "flex": null,
      "flex_flow": null,
      "grid_area": null,
      "grid_auto_columns": null,
      "grid_auto_flow": null,
      "grid_auto_rows": null,
      "grid_column": null,
      "grid_gap": null,
      "grid_row": null,
      "grid_template_areas": null,
      "grid_template_columns": null,
      "grid_template_rows": null,
      "height": null,
      "justify_content": null,
      "justify_items": null,
      "left": null,
      "margin": null,
      "max_height": null,
      "max_width": null,
      "min_height": null,
      "min_width": null,
      "object_fit": null,
      "object_position": null,
      "order": null,
      "overflow": null,
      "overflow_x": null,
      "overflow_y": null,
      "padding": null,
      "right": null,
      "top": null,
      "visibility": null,
      "width": null
     }
    },
    "5e50ad1b490a4a7599453efd400864c4": {
     "model_module": "@jupyter-widgets/controls",
     "model_module_version": "1.5.0",
     "model_name": "ProgressStyleModel",
     "state": {
      "_model_module": "@jupyter-widgets/controls",
      "_model_module_version": "1.5.0",
      "_model_name": "ProgressStyleModel",
      "_view_count": null,
      "_view_module": "@jupyter-widgets/base",
      "_view_module_version": "1.2.0",
      "_view_name": "StyleView",
      "bar_color": null,
      "description_width": ""
     }
    },
    "74ea5ce2971e4b3898a1aebc78231426": {
     "model_module": "@jupyter-widgets/controls",
     "model_module_version": "1.5.0",
     "model_name": "HTMLModel",
     "state": {
      "_dom_classes": [],
      "_model_module": "@jupyter-widgets/controls",
      "_model_module_version": "1.5.0",
      "_model_name": "HTMLModel",
      "_view_count": null,
      "_view_module": "@jupyter-widgets/controls",
      "_view_module_version": "1.5.0",
      "_view_name": "HTMLView",
      "description": "",
      "description_tooltip": null,
      "layout": "IPY_MODEL_7a9bb8ff154744bb86c543591c25d7df",
      "placeholder": "​",
      "style": "IPY_MODEL_21f7da55d5964b3292b54305ca9638eb",
      "value": "100%"
     }
    },
    "7a9bb8ff154744bb86c543591c25d7df": {
     "model_module": "@jupyter-widgets/base",
     "model_module_version": "1.2.0",
     "model_name": "LayoutModel",
     "state": {
      "_model_module": "@jupyter-widgets/base",
      "_model_module_version": "1.2.0",
      "_model_name": "LayoutModel",
      "_view_count": null,
      "_view_module": "@jupyter-widgets/base",
      "_view_module_version": "1.2.0",
      "_view_name": "LayoutView",
      "align_content": null,
      "align_items": null,
      "align_self": null,
      "border": null,
      "bottom": null,
      "display": null,
      "flex": null,
      "flex_flow": null,
      "grid_area": null,
      "grid_auto_columns": null,
      "grid_auto_flow": null,
      "grid_auto_rows": null,
      "grid_column": null,
      "grid_gap": null,
      "grid_row": null,
      "grid_template_areas": null,
      "grid_template_columns": null,
      "grid_template_rows": null,
      "height": null,
      "justify_content": null,
      "justify_items": null,
      "left": null,
      "margin": null,
      "max_height": null,
      "max_width": null,
      "min_height": null,
      "min_width": null,
      "object_fit": null,
      "object_position": null,
      "order": null,
      "overflow": null,
      "overflow_x": null,
      "overflow_y": null,
      "padding": null,
      "right": null,
      "top": null,
      "visibility": null,
      "width": null
     }
    },
    "b44a2c296a114dd180defd841267558f": {
     "model_module": "@jupyter-widgets/base",
     "model_module_version": "1.2.0",
     "model_name": "LayoutModel",
     "state": {
      "_model_module": "@jupyter-widgets/base",
      "_model_module_version": "1.2.0",
      "_model_name": "LayoutModel",
      "_view_count": null,
      "_view_module": "@jupyter-widgets/base",
      "_view_module_version": "1.2.0",
      "_view_name": "LayoutView",
      "align_content": null,
      "align_items": null,
      "align_self": null,
      "border": null,
      "bottom": null,
      "display": null,
      "flex": null,
      "flex_flow": null,
      "grid_area": null,
      "grid_auto_columns": null,
      "grid_auto_flow": null,
      "grid_auto_rows": null,
      "grid_column": null,
      "grid_gap": null,
      "grid_row": null,
      "grid_template_areas": null,
      "grid_template_columns": null,
      "grid_template_rows": null,
      "height": null,
      "justify_content": null,
      "justify_items": null,
      "left": null,
      "margin": null,
      "max_height": null,
      "max_width": null,
      "min_height": null,
      "min_width": null,
      "object_fit": null,
      "object_position": null,
      "order": null,
      "overflow": null,
      "overflow_x": null,
      "overflow_y": null,
      "padding": null,
      "right": null,
      "top": null,
      "visibility": null,
      "width": null
     }
    },
    "bf0103426dad4961b64dacfe64602ab8": {
     "model_module": "@jupyter-widgets/controls",
     "model_module_version": "1.5.0",
     "model_name": "DescriptionStyleModel",
     "state": {
      "_model_module": "@jupyter-widgets/controls",
      "_model_module_version": "1.5.0",
      "_model_name": "DescriptionStyleModel",
      "_view_count": null,
      "_view_module": "@jupyter-widgets/base",
      "_view_module_version": "1.2.0",
      "_view_name": "StyleView",
      "description_width": ""
     }
    },
    "cc4f1131d34b42d595864094b11b9845": {
     "model_module": "@jupyter-widgets/base",
     "model_module_version": "1.2.0",
     "model_name": "LayoutModel",
     "state": {
      "_model_module": "@jupyter-widgets/base",
      "_model_module_version": "1.2.0",
      "_model_name": "LayoutModel",
      "_view_count": null,
      "_view_module": "@jupyter-widgets/base",
      "_view_module_version": "1.2.0",
      "_view_name": "LayoutView",
      "align_content": null,
      "align_items": null,
      "align_self": null,
      "border": null,
      "bottom": null,
      "display": null,
      "flex": null,
      "flex_flow": null,
      "grid_area": null,
      "grid_auto_columns": null,
      "grid_auto_flow": null,
      "grid_auto_rows": null,
      "grid_column": null,
      "grid_gap": null,
      "grid_row": null,
      "grid_template_areas": null,
      "grid_template_columns": null,
      "grid_template_rows": null,
      "height": null,
      "justify_content": null,
      "justify_items": null,
      "left": null,
      "margin": null,
      "max_height": null,
      "max_width": null,
      "min_height": null,
      "min_width": null,
      "object_fit": null,
      "object_position": null,
      "order": null,
      "overflow": null,
      "overflow_x": null,
      "overflow_y": null,
      "padding": null,
      "right": null,
      "top": null,
      "visibility": null,
      "width": null
     }
    },
    "d4d9fcd75ada48cdb0bf18fd7fa876c3": {
     "model_module": "@jupyter-widgets/controls",
     "model_module_version": "1.5.0",
     "model_name": "HBoxModel",
     "state": {
      "_dom_classes": [],
      "_model_module": "@jupyter-widgets/controls",
      "_model_module_version": "1.5.0",
      "_model_name": "HBoxModel",
      "_view_count": null,
      "_view_module": "@jupyter-widgets/controls",
      "_view_module_version": "1.5.0",
      "_view_name": "HBoxView",
      "box_style": "",
      "children": [
       "IPY_MODEL_74ea5ce2971e4b3898a1aebc78231426",
       "IPY_MODEL_f1ab202d00a94e49b7dee8a25bdff089",
       "IPY_MODEL_f94b7cfc1430465ab40e759247d6ced5"
      ],
      "layout": "IPY_MODEL_b44a2c296a114dd180defd841267558f"
     }
    },
    "f1ab202d00a94e49b7dee8a25bdff089": {
     "model_module": "@jupyter-widgets/controls",
     "model_module_version": "1.5.0",
     "model_name": "FloatProgressModel",
     "state": {
      "_dom_classes": [],
      "_model_module": "@jupyter-widgets/controls",
      "_model_module_version": "1.5.0",
      "_model_name": "FloatProgressModel",
      "_view_count": null,
      "_view_module": "@jupyter-widgets/controls",
      "_view_module_version": "1.5.0",
      "_view_name": "ProgressView",
      "bar_style": "success",
      "description": "",
      "description_tooltip": null,
      "layout": "IPY_MODEL_3a725fec4096425ba9679633615067f5",
      "max": 20,
      "min": 0,
      "orientation": "horizontal",
      "style": "IPY_MODEL_5e50ad1b490a4a7599453efd400864c4",
      "value": 20
     }
    },
    "f94b7cfc1430465ab40e759247d6ced5": {
     "model_module": "@jupyter-widgets/controls",
     "model_module_version": "1.5.0",
     "model_name": "HTMLModel",
     "state": {
      "_dom_classes": [],
      "_model_module": "@jupyter-widgets/controls",
      "_model_module_version": "1.5.0",
      "_model_name": "HTMLModel",
      "_view_count": null,
      "_view_module": "@jupyter-widgets/controls",
      "_view_module_version": "1.5.0",
      "_view_name": "HTMLView",
      "description": "",
      "description_tooltip": null,
      "layout": "IPY_MODEL_cc4f1131d34b42d595864094b11b9845",
      "placeholder": "​",
      "style": "IPY_MODEL_bf0103426dad4961b64dacfe64602ab8",
      "value": " 20/20 [00:51&lt;00:00,  2.54s/it]"
     }
    }
   }
  }
 },
 "nbformat": 4,
 "nbformat_minor": 4
}
