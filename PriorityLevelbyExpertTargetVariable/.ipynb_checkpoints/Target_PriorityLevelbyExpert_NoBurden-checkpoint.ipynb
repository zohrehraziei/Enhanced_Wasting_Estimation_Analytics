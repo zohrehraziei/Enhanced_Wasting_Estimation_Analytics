{
 "cells": [
  {
   "cell_type": "code",
   "execution_count": null,
   "metadata": {
    "ExecuteTime": {
     "end_time": "2022-05-30T17:33:03.432875Z",
     "start_time": "2022-05-30T17:33:03.401430Z"
    },
    "tags": []
   },
   "outputs": [],
   "source": [
    "# !pip install shap\n",
    "# !pip install autogluon\n",
    "# !pip install category_encoders"
   ]
  },
  {
   "cell_type": "code",
   "execution_count": null,
   "metadata": {
    "ExecuteTime": {
     "end_time": "2022-05-30T17:33:03.451460Z",
     "start_time": "2022-05-30T17:33:03.434987Z"
    }
   },
   "outputs": [],
   "source": [
    "import time\n",
    "start_time = time.time()"
   ]
  },
  {
   "cell_type": "code",
   "execution_count": null,
   "metadata": {
    "ExecuteTime": {
     "end_time": "2022-05-30T17:33:07.940652Z",
     "start_time": "2022-05-30T17:33:03.451460Z"
    }
   },
   "outputs": [],
   "source": [
    "import numpy as np\n",
    "import shap\n",
    "from sklearn.preprocessing import MinMaxScaler\n",
    "from sklearn.model_selection import cross_val_score\n",
    "from sklearn.model_selection import cross_val_predict\n",
    "from sklearn.metrics import cohen_kappa_score\n",
    "from sklearn.impute import KNNImputer\n",
    "import pandas as pd\n",
    "import matplotlib.pyplot as plt\n",
    "import seaborn as sns\n",
    "from sklearn.pipeline import Pipeline\n",
    "import re\n",
    "from sklearn.svm import SVC, LinearSVC\n",
    "from sklearn.ensemble import RandomForestClassifier\n",
    "import lightgbm as lgb\n",
    "import seaborn as sn \n",
    "import xgboost as xgb\n",
    "from sklearn.model_selection import train_test_split, cross_val_score, GridSearchCV, RandomizedSearchCV\n",
    "from sklearn.metrics import classification_report, make_scorer, accuracy_score, confusion_matrix, ConfusionMatrixDisplay\n",
    "import category_encoders as ce\n",
    "\n",
    "pd.set_option('max_rows', 1000)\n",
    "pd.set_option('max_columns', 1000)\n",
    "print(\"Numpy version {}\".format(np.__version__))\n",
    "print(\"Pandas version {}\".format(pd.__version__))"
   ]
  },
  {
   "cell_type": "code",
   "execution_count": null,
   "metadata": {
    "ExecuteTime": {
     "end_time": "2022-05-30T17:33:08.143005Z",
     "start_time": "2022-05-30T17:33:08.050388Z"
    }
   },
   "outputs": [],
   "source": [
    "# path to data file\n",
    "df = pd.read_csv(path_data+\"hotspot_2020_22_cleaned.csv\")\n",
    "print(df.shape)\n",
    "df.head()"
   ]
  },
  {
   "cell_type": "markdown",
   "metadata": {},
   "source": [
    "Fixing French notations:"
   ]
  },
  {
   "cell_type": "code",
   "execution_count": null,
   "metadata": {
    "ExecuteTime": {
     "end_time": "2022-05-30T17:33:08.325294Z",
     "start_time": "2022-05-30T17:33:08.145967Z"
    }
   },
   "outputs": [],
   "source": [
    "df.replace(\"à\", 'a', regex=True, inplace=True)\n",
    "df.replace(\"à\", 'a', regex=True, inplace=True)\n",
    "df.replace(\"è\", 'e', regex=True, inplace=True)\n",
    "df.replace(\"é\", 'e', regex=True, inplace=True)\n",
    "df.replace(\"ï\", 'i', regex=True, inplace=True)\n",
    "# hotspot_2020_22_df.replace(\"__\", '_', regex=False, inplace=True)\n",
    "df[df['admin1']=='menaka']"
   ]
  },
  {
   "cell_type": "markdown",
   "metadata": {},
   "source": [
    "Getting cluster label as target:"
   ]
  },
  {
   "cell_type": "code",
   "execution_count": null,
   "metadata": {
    "ExecuteTime": {
     "end_time": "2022-05-30T17:33:08.390224Z",
     "start_time": "2022-05-30T17:33:08.326306Z"
    }
   },
   "outputs": [],
   "source": [
    "# The cluster labels are in the same order as the dataset is\n",
    "# therefore, we can directly get the target column from the cluster dataset\n",
    "df.rename(columns={'priority_level_validated_by_the_clusters': 'target'}, inplace=True)\n",
    "df.head()"
   ]
  },
  {
   "cell_type": "code",
   "execution_count": null,
   "metadata": {
    "ExecuteTime": {
     "end_time": "2022-05-30T17:33:08.405727Z",
     "start_time": "2022-05-30T17:33:08.391112Z"
    }
   },
   "outputs": [],
   "source": [
    "# Convert Target to numerical\n",
    "encoder = ce.OrdinalEncoder(mapping=[{'col': 'target', 'mapping': {\"LOW\": 0, \"MEDIUM\": 1, \"HIGH\": 2, \"VERY HIGH\":3}}] , return_df=True)\n",
    "df = encoder.fit_transform(df)\n",
    "print(df[\"target\"].value_counts())"
   ]
  },
  {
   "cell_type": "code",
   "execution_count": null,
   "metadata": {
    "ExecuteTime": {
     "end_time": "2022-05-30T17:33:08.421728Z",
     "start_time": "2022-05-30T17:33:08.407732Z"
    }
   },
   "outputs": [],
   "source": [
    "# filling out the from 'human' column from Hotspot Analysis with 'Human' data from INFORM model\n",
    "df['human'].fillna(df['Human'], inplace=True)\n",
    "\n",
    "# removing all the burden + prevalence data + icf\n",
    "to_drop = ['Target']"
   ]
  },
  {
   "cell_type": "code",
   "execution_count": null,
   "metadata": {
    "ExecuteTime": {
     "end_time": "2022-05-30T17:33:08.499503Z",
     "start_time": "2022-05-30T17:33:08.423731Z"
    }
   },
   "outputs": [],
   "source": [
    "df.drop(to_drop, axis=1, inplace=True)\n",
    "print(df.shape)\n",
    "df.head()"
   ]
  },
  {
   "cell_type": "code",
   "execution_count": null,
   "metadata": {
    "ExecuteTime": {
     "end_time": "2022-05-30T17:33:08.514550Z",
     "start_time": "2022-05-30T17:33:08.500503Z"
    }
   },
   "outputs": [],
   "source": [
    "df.dtypes"
   ]
  },
  {
   "cell_type": "code",
   "execution_count": null,
   "metadata": {
    "ExecuteTime": {
     "end_time": "2022-05-30T17:33:08.546667Z",
     "start_time": "2022-05-30T17:33:08.515508Z"
    }
   },
   "outputs": [],
   "source": [
    "df.describe(include=[object])"
   ]
  },
  {
   "cell_type": "code",
   "execution_count": null,
   "metadata": {
    "ExecuteTime": {
     "end_time": "2022-05-30T17:33:08.562323Z",
     "start_time": "2022-05-30T17:33:08.548863Z"
    }
   },
   "outputs": [],
   "source": [
    "# checking the columns having object data type 'x'\n",
    "def is_float(x):\n",
    "    try:\n",
    "        float(x)\n",
    "        return True\n",
    "    except ValueError:\n",
    "        return False\n",
    "\n",
    "\n",
    "print([x for x in df['Food_Insecurity_Probability'].values if is_float(x) == False])\n",
    "print([x for x in df['Food_Security'].values if is_float(x) == False])\n",
    "print([x for x in df['Mortality_rate_under-5'].values if is_float(x) == False])"
   ]
  },
  {
   "cell_type": "code",
   "execution_count": null,
   "metadata": {
    "ExecuteTime": {
     "end_time": "2022-05-30T17:33:08.576655Z",
     "start_time": "2022-05-30T17:33:08.562838Z"
    }
   },
   "outputs": [],
   "source": [
    "# replacing 'x' by np.NaN\n",
    "df.loc[df['Food_Insecurity_Probability'] == 'x', 'Food_Insecurity_Probability'] = np.NaN\n",
    "df.loc[df['Food_Security'] == 'x', 'Food_Security'] = np.NaN\n",
    "df.loc[df['Mortality_rate_under-5'] == 'x', 'Mortality_rate_under-5'] = np.NaN\n",
    "\n",
    "df['Food_Insecurity_Probability'] = df['Food_Insecurity_Probability'].astype(float)\n",
    "df['Food_Security'] = df['Food_Security'].astype(float)\n",
    "df['Mortality_rate_under-5'] = df['Mortality_rate_under-5'].astype(float)"
   ]
  },
  {
   "cell_type": "code",
   "execution_count": null,
   "metadata": {
    "ExecuteTime": {
     "end_time": "2022-05-30T17:33:08.591877Z",
     "start_time": "2022-05-30T17:33:08.577894Z"
    }
   },
   "outputs": [],
   "source": [
    "# removing the categorical columns with a lot categories\n",
    "to_drop = ['ADMIN_2_Admnistratif', \t'admin2_sanitary', 'DS_ADMIN_2_Admnistratif_Burden_Data']\n",
    "df.drop(to_drop, axis=1, inplace=True)"
   ]
  },
  {
   "cell_type": "code",
   "execution_count": null,
   "metadata": {
    "ExecuteTime": {
     "end_time": "2022-05-30T17:33:08.798106Z",
     "start_time": "2022-05-30T17:33:08.593429Z"
    }
   },
   "outputs": [],
   "source": [
    "# checking integer columns\n",
    "df.describe(include=['number'])"
   ]
  },
  {
   "cell_type": "code",
   "execution_count": null,
   "metadata": {
    "ExecuteTime": {
     "end_time": "2022-05-30T17:33:08.876706Z",
     "start_time": "2022-05-30T17:33:08.803051Z"
    }
   },
   "outputs": [],
   "source": [
    "# comparing the 50/ 75/ max values in the above table\n",
    "cols_for_transformation = ['population_totale', 'population_6-59_month', 'idps', \n",
    "                           'Population_sans_acces_aux_structures_de_sante']\n",
    "\n",
    "for col in cols_for_transformation:\n",
    "    df[col] = np.log(df[col]+1)\n",
    "\n",
    "print(df.shape)\n",
    "df.head()"
   ]
  },
  {
   "cell_type": "code",
   "execution_count": null,
   "metadata": {
    "ExecuteTime": {
     "end_time": "2022-05-30T17:33:08.924288Z",
     "start_time": "2022-05-30T17:33:08.895789Z"
    }
   },
   "outputs": [],
   "source": [
    "#dropping duplicates in 2021\n",
    "df['key'] = df[\"country\"].astype(str) + df['admin1'].astype(str) + df['ADMIN_2_Admnistratif'].astype(str) + df['admin2_sanitary'].astype(str)\n",
    "df = df.loc[~(df.index.isin([783,781]))]\n",
    "print(df.shape)\n",
    "df['key'].value_counts()"
   ]
  },
  {
   "cell_type": "markdown",
   "metadata": {},
   "source": [
    "###Intersection###"
   ]
  },
  {
   "cell_type": "code",
   "execution_count": null,
   "metadata": {
    "ExecuteTime": {
     "end_time": "2022-05-30T17:33:08.940290Z",
     "start_time": "2022-05-30T17:33:08.925290Z"
    }
   },
   "outputs": [],
   "source": [
    "df = df[df['key'].map(df['key'].value_counts()) >= 3]\n",
    "print(df.shape)"
   ]
  },
  {
   "cell_type": "code",
   "execution_count": null,
   "metadata": {
    "ExecuteTime": {
     "end_time": "2022-05-30T17:33:08.956286Z",
     "start_time": "2022-05-30T17:33:08.942290Z"
    }
   },
   "outputs": [],
   "source": [
    "df.drop(['key'], axis=1, inplace=True)\n",
    "df.shape"
   ]
  },
  {
   "cell_type": "code",
   "execution_count": null,
   "metadata": {
    "ExecuteTime": {
     "end_time": "2022-05-30T17:33:08.972284Z",
     "start_time": "2022-05-30T17:33:08.957287Z"
    }
   },
   "outputs": [],
   "source": [
    "# Removing the columns having more than 70% missing values\n",
    "print(df.shape)\n",
    "df.drop(df.columns[df.isnull().sum(axis=0)/ df.shape[0] > 0.7], axis=1, inplace=True)"
   ]
  },
  {
   "cell_type": "code",
   "execution_count": null,
   "metadata": {
    "ExecuteTime": {
     "end_time": "2022-05-30T17:33:08.988286Z",
     "start_time": "2022-05-30T17:33:08.973288Z"
    }
   },
   "outputs": [],
   "source": [
    "print(df.shape)\n",
    "df.columns"
   ]
  },
  {
   "cell_type": "markdown",
   "metadata": {},
   "source": [
    "Dropping SAM GAM MAM Burdens:"
   ]
  },
  {
   "cell_type": "code",
   "execution_count": null,
   "metadata": {
    "ExecuteTime": {
     "end_time": "2022-05-30T17:33:09.003636Z",
     "start_time": "2022-05-30T17:33:08.989290Z"
    }
   },
   "outputs": [],
   "source": [
    "drop_burdens = ['gam_burden', 'sam_burden', 'mam_burden','GAM_Burden_R_rest', 'SAM_Burden_R_rest', 'MAM_Burden_R_rest']\n",
    "df.drop(drop_burdens, axis=1, inplace=True)"
   ]
  },
  {
   "cell_type": "code",
   "execution_count": null,
   "metadata": {
    "ExecuteTime": {
     "end_time": "2022-05-30T17:33:09.019638Z",
     "start_time": "2022-05-30T17:33:09.004639Z"
    }
   },
   "outputs": [],
   "source": [
    "print(df.shape)\n",
    "df.columns"
   ]
  },
  {
   "cell_type": "code",
   "execution_count": null,
   "metadata": {
    "ExecuteTime": {
     "end_time": "2022-05-30T17:33:09.048443Z",
     "start_time": "2022-05-30T17:33:09.034448Z"
    }
   },
   "outputs": [],
   "source": [
    "target_column = 'target'"
   ]
  },
  {
   "cell_type": "code",
   "execution_count": null,
   "metadata": {
    "ExecuteTime": {
     "end_time": "2022-05-30T17:33:09.063227Z",
     "start_time": "2022-05-30T17:33:09.050447Z"
    }
   },
   "outputs": [],
   "source": [
    "# target column has 0 missing values out of total 1102 values\n",
    "df['target_null'] = df[target_column].isnull()\n",
    "\n",
    "print(df.groupby('year')['target_null'].count())\n",
    "\n",
    "print(df.groupby('year')['target_null'].sum())"
   ]
  },
  {
   "cell_type": "code",
   "execution_count": null,
   "metadata": {
    "ExecuteTime": {
     "end_time": "2022-05-30T17:33:09.079229Z",
     "start_time": "2022-05-30T17:33:09.064203Z"
    }
   },
   "outputs": [],
   "source": [
    "df.drop(['target_null'], axis=1, inplace=True)"
   ]
  },
  {
   "cell_type": "code",
   "execution_count": null,
   "metadata": {
    "ExecuteTime": {
     "end_time": "2022-05-30T17:33:09.094754Z",
     "start_time": "2022-05-30T17:33:09.080751Z"
    }
   },
   "outputs": [],
   "source": [
    "# seeing region wise distribution in different years\n",
    "area_distribution = df.groupby(['year', 'admin1'])['target'].count().reset_index()"
   ]
  },
  {
   "cell_type": "code",
   "execution_count": null,
   "metadata": {
    "ExecuteTime": {
     "end_time": "2022-05-30T17:33:10.324998Z",
     "start_time": "2022-05-30T17:33:09.096518Z"
    }
   },
   "outputs": [],
   "source": [
    "for i,year in enumerate(area_distribution['year'].unique()):\n",
    "    data = area_distribution.loc[area_distribution['year'] == year, :]\n",
    "    print(\"Number of unique admin regions {}\".format(len(data['admin1'].unique())))\n",
    "    print(sorted(data['admin1'].unique()))\n",
    "    data.reset_index(drop=True, inplace=True)\n",
    "    data.sort_values(by='target', inplace=True, ascending=False)\n",
    "    plt.figure(figsize=(40,10))\n",
    "    plt.bar(data['admin1'], data['target'])\n",
    "    plt.xticks(rotation=45)\n",
    "    plt.xlabel('admin1')\n",
    "    plt.ylabel('Number of rows for {}'.format(year))\n",
    "    plt.show()"
   ]
  },
  {
   "cell_type": "code",
   "execution_count": null,
   "metadata": {
    "ExecuteTime": {
     "end_time": "2022-05-30T17:33:10.338189Z",
     "start_time": "2022-05-30T17:33:10.326595Z"
    }
   },
   "outputs": [],
   "source": [
    "#Dropping priority level validated by clusters & DS_ADMIN_2_Admnistratif_Burden_Data\n",
    "df.drop(['DS_ADMIN_2_Admnistratif_Burden_Data'], axis=1, inplace=True)\n",
    "print(df.shape)"
   ]
  },
  {
   "cell_type": "code",
   "execution_count": null,
   "metadata": {
    "ExecuteTime": {
     "end_time": "2022-05-30T17:33:10.358551Z",
     "start_time": "2022-05-30T17:33:10.338189Z"
    }
   },
   "outputs": [],
   "source": [
    "#Keeping Year as a categorical value in model\n",
    "categorical_columns = ['year']\n",
    "numerical_columns = []\n",
    "\n",
    "for col in df.columns:\n",
    "  if col != 'year':\n",
    "    if df[col].dtype == object:\n",
    "      categorical_columns.append(col)\n",
    "    elif df[col].dtype == 'float64':\n",
    "      numerical_columns.append(col)"
   ]
  },
  {
   "cell_type": "code",
   "execution_count": null,
   "metadata": {
    "ExecuteTime": {
     "end_time": "2022-05-30T17:33:10.370241Z",
     "start_time": "2022-05-30T17:33:10.359558Z"
    }
   },
   "outputs": [],
   "source": [
    "categorical_columns"
   ]
  },
  {
   "cell_type": "code",
   "execution_count": null,
   "metadata": {
    "ExecuteTime": {
     "end_time": "2022-05-30T17:33:10.385956Z",
     "start_time": "2022-05-30T17:33:10.371135Z"
    }
   },
   "outputs": [],
   "source": [
    "numerical_columns"
   ]
  },
  {
   "cell_type": "code",
   "execution_count": null,
   "metadata": {
    "ExecuteTime": {
     "end_time": "2022-05-30T17:33:10.401495Z",
     "start_time": "2022-05-30T17:33:10.387457Z"
    }
   },
   "outputs": [],
   "source": [
    "# encoding categorical columns to numerical columns\n",
    "from sklearn.preprocessing import LabelEncoder\n",
    "\n",
    "lbl = LabelEncoder()\n",
    "\n",
    "for var in categorical_columns:\n",
    "    df[var] = lbl.fit_transform(df[var])\n",
    "\n",
    "print(df.shape)"
   ]
  },
  {
   "cell_type": "code",
   "execution_count": null,
   "metadata": {
    "ExecuteTime": {
     "end_time": "2022-05-30T17:33:10.417496Z",
     "start_time": "2022-05-30T17:33:10.403457Z"
    }
   },
   "outputs": [],
   "source": [
    "df['year'].value_counts()"
   ]
  },
  {
   "cell_type": "code",
   "execution_count": null,
   "metadata": {
    "ExecuteTime": {
     "end_time": "2022-05-30T17:33:10.432478Z",
     "start_time": "2022-05-30T17:33:10.418454Z"
    }
   },
   "outputs": [],
   "source": [
    "col_list = df.columns.to_list()\n",
    "missing_list = list(df.isnull().sum())\n",
    "missing_df = pd.DataFrame({'variable': col_list,\n",
    "                           'missing_count': missing_list})\n",
    "missing_df.head(10)"
   ]
  },
  {
   "cell_type": "code",
   "execution_count": null,
   "metadata": {
    "ExecuteTime": {
     "end_time": "2022-05-30T17:33:34.589758Z",
     "start_time": "2022-05-30T17:33:10.433458Z"
    }
   },
   "outputs": [],
   "source": [
    "# exploring correlation amongst columns having numerical values \n",
    "corr = df[numerical_columns].corr()\n",
    "\n",
    "fig, ax = plt.subplots()\n",
    "fig.set_figheight(60)\n",
    "fig.set_figwidth(60)\n",
    "sns.heatmap(df.corr(method='pearson'), annot=True, fmt='.4f', \n",
    "            cmap=plt.get_cmap('coolwarm'), cbar=False, ax=ax)\n",
    "ax.set_yticklabels(ax.get_yticklabels(), rotation=\"horizontal\")\n",
    "fig.savefig(\"out.png\")"
   ]
  },
  {
   "cell_type": "code",
   "execution_count": null,
   "metadata": {
    "ExecuteTime": {
     "end_time": "2022-05-30T17:33:34.636721Z",
     "start_time": "2022-05-30T17:33:34.590726Z"
    }
   },
   "outputs": [],
   "source": [
    "# dropping features with correlation greater than 0.9 \n",
    "corr = df[numerical_columns].corr().abs()\n",
    "# corr.to_csv('C:/Users/mghosh/OneDrive - UvA/Work/WFP_Wasting/Results/corr.csv')\n",
    "corr_cut_off = 0.9\n",
    "\n",
    "all_var = corr.where((np.triu(np.ones(corr.shape), k=1) + \n",
    "                           np.tril(np.ones(corr.shape), k=-1)).astype(bool))\n",
    "\n",
    "upper = corr.where((np.triu(np.ones(corr.shape), k=1)).astype(bool))\n",
    "\n",
    "corr_check_all = [column for column in all_var.columns if any(all_var[column] > corr_cut_off)]\n",
    "corr_check_upper = [column for column in upper.columns if any(upper[column] > corr_cut_off)]\n",
    "missing_corr = missing_df[missing_df['variable'].isin(corr_check_all)]\n",
    "missing_corr"
   ]
  },
  {
   "cell_type": "code",
   "execution_count": null,
   "metadata": {
    "ExecuteTime": {
     "end_time": "2022-05-30T17:33:34.651728Z",
     "start_time": "2022-05-30T17:33:34.637724Z"
    }
   },
   "outputs": [],
   "source": [
    "corr_check_upper"
   ]
  },
  {
   "cell_type": "code",
   "execution_count": null,
   "metadata": {
    "ExecuteTime": {
     "end_time": "2022-05-30T17:33:34.668978Z",
     "start_time": "2022-05-30T17:33:34.653845Z"
    }
   },
   "outputs": [],
   "source": [
    "to_drop = ['population_6-59_month',\n",
    " 'gam_prevalence',\n",
    " 'mam_prevalence',\n",
    " 'facteur_de_correction-incidence_mam',\n",
    " 'deworming',\n",
    " 'lack_of_coping_capacity',\n",
    " 'Socio-Economic_Vulnerability',\n",
    " 'Institutional',\n",
    " 'Infrastructure',\n",
    " 'LACK_OF_COPING_CAPACITY']\n",
    "to_drop"
   ]
  },
  {
   "cell_type": "code",
   "execution_count": null,
   "metadata": {
    "ExecuteTime": {
     "end_time": "2022-05-30T17:33:34.689211Z",
     "start_time": "2022-05-30T17:33:34.668978Z"
    }
   },
   "outputs": [],
   "source": [
    "df.drop(to_drop, axis=1, inplace=True)"
   ]
  },
  {
   "cell_type": "code",
   "execution_count": null,
   "metadata": {
    "ExecuteTime": {
     "end_time": "2022-05-30T17:33:34.704865Z",
     "start_time": "2022-05-30T17:33:34.690349Z"
    }
   },
   "outputs": [],
   "source": [
    "df.columns"
   ]
  },
  {
   "cell_type": "code",
   "execution_count": null,
   "metadata": {
    "ExecuteTime": {
     "end_time": "2022-05-30T17:33:34.720864Z",
     "start_time": "2022-05-30T17:33:34.705865Z"
    }
   },
   "outputs": [],
   "source": [
    "# feature 'year' used for splitting the data into train test\n",
    "target_column = 'target'"
   ]
  },
  {
   "cell_type": "code",
   "execution_count": null,
   "metadata": {
    "ExecuteTime": {
     "end_time": "2022-05-30T17:33:34.910871Z",
     "start_time": "2022-05-30T17:33:34.721864Z"
    }
   },
   "outputs": [],
   "source": [
    "df[target_column].hist()"
   ]
  },
  {
   "cell_type": "code",
   "execution_count": null,
   "metadata": {
    "ExecuteTime": {
     "end_time": "2022-05-30T17:33:34.926072Z",
     "start_time": "2022-05-30T17:33:34.913869Z"
    }
   },
   "outputs": [],
   "source": [
    "# splitting the set into train and test set using the 'year'\n",
    "train = df.loc[df['year'] != 2, :].reset_index(drop=True)\n",
    "test = df.loc[df['year'] == 2, :].reset_index(drop=True)"
   ]
  },
  {
   "cell_type": "code",
   "execution_count": null,
   "metadata": {
    "ExecuteTime": {
     "end_time": "2022-05-30T17:33:34.941865Z",
     "start_time": "2022-05-30T17:33:34.928864Z"
    }
   },
   "outputs": [],
   "source": [
    "#Dropping >70% missing vars of train from both train and test\n",
    "drop_vars = train.columns[train.isnull().sum(axis=0)/ train.shape[0] == 1]\n",
    "print(drop_vars)\n",
    "train.drop(drop_vars, axis=1, inplace=True)\n",
    "test.drop(drop_vars, axis=1, inplace=True)"
   ]
  },
  {
   "cell_type": "code",
   "execution_count": null,
   "metadata": {
    "ExecuteTime": {
     "end_time": "2022-05-30T17:33:34.972977Z",
     "start_time": "2022-05-30T17:33:34.958861Z"
    }
   },
   "outputs": [],
   "source": [
    "print(train.columns[train.isnull().sum(axis=0)/ train.shape[0]==1])\n",
    "print(test.columns[test.isnull().sum(axis=0)/ test.shape[0]==1])"
   ]
  },
  {
   "cell_type": "code",
   "execution_count": null,
   "metadata": {
    "ExecuteTime": {
     "end_time": "2022-05-30T17:33:34.988404Z",
     "start_time": "2022-05-30T17:33:34.974863Z"
    }
   },
   "outputs": [],
   "source": [
    "xtrain = train.loc[:, train.columns != 'target']\n",
    "ytrain = train['target']\n",
    "xtest = test.loc[:, train.columns != 'target']\n",
    "ytest = test['target']"
   ]
  },
  {
   "cell_type": "code",
   "execution_count": null,
   "metadata": {
    "ExecuteTime": {
     "end_time": "2022-05-30T17:33:35.003856Z",
     "start_time": "2022-05-30T17:33:34.989406Z"
    }
   },
   "outputs": [],
   "source": [
    "# qwk metric for calculating divergence regarding actual labels\n",
    "def sklearn_qwk(y_true, y_pred) -> np.float64:\n",
    "    \"\"\"\n",
    "    Function for measuring Quadratic Weighted Kappa with scikit-learn\n",
    "    \n",
    "    :param y_true: The ground truth labels\n",
    "    :param y_pred: The predicted labels\n",
    "    \n",
    "    :return The Quadratic Weighted Kappa Score (QWK)\n",
    "    \"\"\"\n",
    "    return cohen_kappa_score(y_true, y_pred, weights=\"quadratic\")"
   ]
  },
  {
   "cell_type": "code",
   "execution_count": null,
   "metadata": {
    "ExecuteTime": {
     "end_time": "2022-05-30T17:33:35.019528Z",
     "start_time": "2022-05-30T17:33:35.005853Z"
    }
   },
   "outputs": [],
   "source": [
    "def one_away_accuracy(y_true, y_pred) -> np.float64:\n",
    "    \"\"\"\n",
    "    Function for measuring 1-away-accuracy with scikit-learn\n",
    "    \n",
    "    :param y_true: The ground truth labels\n",
    "    :param y_pred: The predicted labels\n",
    "    \n",
    "    :return 1_away_accuracy (1_accuracy)\n",
    "    \"\"\"\n",
    "    labels = sorted(list(set(y_true)))\n",
    "    cmx_data = confusion_matrix(y_true, y_pred, labels=labels)\n",
    "\n",
    "    #df_cmx = pd.DataFrame(cmx_data, index=labels, columns=labels)\n",
    "\n",
    "    to_sum_list = []\n",
    "    \n",
    "    for i in range(cmx_data.shape[0]):\n",
    "        to_sum_list.append(cmx_data[i][i])\n",
    "\n",
    "    for i in range(1, cmx_data.shape[0]):\n",
    "        to_sum_list.append(cmx_data[i][i - 1])\n",
    "        to_sum_list.append(cmx_data[i-1][i])\n",
    "    \n",
    "    one_away_acc = sum(to_sum_list)/sum(np.concatenate(cmx_data))\n",
    "    return one_away_acc"
   ]
  },
  {
   "cell_type": "code",
   "execution_count": null,
   "metadata": {
    "ExecuteTime": {
     "end_time": "2022-05-30T17:33:35.035022Z",
     "start_time": "2022-05-30T17:33:35.020685Z"
    }
   },
   "outputs": [],
   "source": [
    "kappa_scorer = make_scorer(sklearn_qwk)\n",
    "one_acc_scorer = make_scorer(one_away_accuracy)"
   ]
  },
  {
   "cell_type": "code",
   "execution_count": null,
   "metadata": {
    "ExecuteTime": {
     "end_time": "2022-05-30T17:33:35.050297Z",
     "start_time": "2022-05-30T17:33:35.035924Z"
    }
   },
   "outputs": [],
   "source": [
    "# plotting confusion matrix\n",
    "def print_cmx(y_true, y_pred, label):\n",
    "    print(\"Confusion Matrix: {}\".format(label))\n",
    "    labels = sorted(list(set(y_true)))\n",
    "    cmx_data = confusion_matrix(y_true, y_pred, labels=labels)\n",
    "\n",
    "    df_cmx = pd.DataFrame(cmx_data, index=labels, columns=labels)\n",
    "\n",
    "    plt.figure(figsize=(10, 7))\n",
    "    sn.heatmap(df_cmx, annot=True)\n",
    "    plt.show()"
   ]
  },
  {
   "cell_type": "code",
   "execution_count": null,
   "metadata": {
    "ExecuteTime": {
     "end_time": "2022-05-30T17:33:35.065668Z",
     "start_time": "2022-05-30T17:33:35.051936Z"
    }
   },
   "outputs": [],
   "source": [
    "xtrain_copy = xtrain.copy()\n",
    "ytrain_copy = ytrain.copy()\n",
    "xtest_copy = xtest.copy()\n",
    "ytest_copy = ytest.copy()"
   ]
  },
  {
   "cell_type": "code",
   "execution_count": null,
   "metadata": {
    "ExecuteTime": {
     "end_time": "2022-05-30T17:33:35.081518Z",
     "start_time": "2022-05-30T17:33:35.067303Z"
    }
   },
   "outputs": [],
   "source": [
    "model_outputs = []"
   ]
  },
  {
   "cell_type": "code",
   "execution_count": null,
   "metadata": {
    "ExecuteTime": {
     "end_time": "2022-05-30T17:33:35.097016Z",
     "start_time": "2022-05-30T17:33:35.082491Z"
    }
   },
   "outputs": [],
   "source": [
    "# random forest parameter optimization\n",
    "# since KNN is a distance based algorithm we'll scale the features and then use imputation to fill the values.\n",
    "# creating a pipeline for all the algorithms\n",
    "pipe = Pipeline(steps=[\n",
    "    ('scale', MinMaxScaler()),\n",
    "    ('impute', KNNImputer(n_neighbors=3)),\n",
    "    ('rf', RandomForestClassifier(random_state=2021, n_estimators=200))\n",
    "])\n",
    "\n",
    "# we have a list of possible values for each hyperparameter\n",
    "params= { \n",
    "    'rf__max_features': ['auto', 'sqrt'],\n",
    "    'rf__max_depth' : [4,5,6,8],\n",
    "    'rf__min_samples_split': [2,5,10]\n",
    "}\n"
   ]
  },
  {
   "cell_type": "code",
   "execution_count": null,
   "metadata": {
    "ExecuteTime": {
     "end_time": "2022-05-30T17:33:35.112804Z",
     "start_time": "2022-05-30T17:33:35.098797Z"
    }
   },
   "outputs": [],
   "source": [
    "feat = [x for x in xtrain.columns]"
   ]
  },
  {
   "cell_type": "code",
   "execution_count": null,
   "metadata": {
    "ExecuteTime": {
     "end_time": "2022-05-30T17:34:17.457717Z",
     "start_time": "2022-05-30T17:33:35.114798Z"
    },
    "scrolled": true
   },
   "outputs": [],
   "source": [
    "# 10 fold cross validation is used for hyperparameter tuning; \n",
    "#Creating RF only on accuracy score as others (one_away and QWK) shouldn't affect much\n",
    "\n",
    "clf = GridSearchCV(pipe, params, cv=10, n_jobs=-1, scoring='accuracy')\n",
    "\n",
    "clf.fit(xtrain[feat], ytrain)\n",
    "\n",
    "score = cross_val_score(clf.best_estimator_, xtrain[feat], ytrain, cv=10, scoring='accuracy')\n",
    "\n",
    "# saving the best model for RandomForest for stacking\n",
    "model_rf = clf.best_estimator_\n",
    "\n",
    "model_rf.fit(xtrain[feat], ytrain)\n",
    "\n",
    "pred = clf.best_estimator_.predict(xtest[feat])\n",
    "\n",
    "print(\"Classification Report for the test set with Accuracy as metric {}\".format(classification_report(ytest, pred)))\n",
    "\n",
    "print(\"Best parameter settings RF: \\n\", model_rf)\n",
    "\n",
    "print_cmx(ytest, pred, \"Accuracy as Metric\")\n",
    "\n",
    "#Storing All 3 results for each algo\n",
    "acc = accuracy_score(ytest, pred)\n",
    "qwk = sklearn_qwk(ytest, pred)\n",
    "one_away_acc = one_away_accuracy(ytest, pred)\n",
    "\n",
    "# 10 fold cross validation is used for hyperparameter tuning using Cohen’s kappa score\n",
    "# clf = GridSearchCV(pipe, params, cv=10, n_jobs=-1, scoring=kappa_scorer)\n",
    "\n",
    "# clf.fit(xtrain[feat], ytrain)\n",
    "\n",
    "# check how it performs on the cross validation with QWK as metric\n",
    "score_qwk = cross_val_score(clf.best_estimator_, xtrain[feat], ytrain, cv=10, scoring='accuracy')\n",
    "\n",
    "model_rf_qwk = clf.best_estimator_\n",
    "\n",
    "model_rf_qwk.fit(xtrain[feat], ytrain)\n",
    "\n",
    "pred = clf.best_estimator_.predict(xtest[feat])\n",
    "\n",
    "print(\"Classification Report for the test set with QWK as metric {}\".format(classification_report(ytest, pred)))\n",
    "\n",
    "print(model_rf_qwk)\n",
    "\n",
    "print_cmx(ytest, pred, \"QWK as Metric\")\n",
    "\n",
    "model_outputs.append({\n",
    "    'model': \"RandomForest\",\n",
    "    'cv_score_mean': score.mean(),\n",
    "    'cv_score_std': score.std(),\n",
    "    'test_accuracy': acc,\n",
    "    'test_qwk': qwk,\n",
    "    'test_one_away': one_away_acc\n",
    "})\n",
    "model_outputs"
   ]
  },
  {
   "cell_type": "code",
   "execution_count": null,
   "metadata": {
    "ExecuteTime": {
     "end_time": "2022-05-30T17:34:21.943049Z",
     "start_time": "2022-05-30T17:34:17.459718Z"
    }
   },
   "outputs": [],
   "source": [
    "# SHAP values are calculated for each class individually - Accuracy\n",
    "explainer = shap.TreeExplainer(model_rf['rf'])\n",
    "shap_values = np.array(explainer.shap_values(xtrain[feat]))\n",
    "\n",
    "\n",
    "# feature importance for class i for loop\n",
    "for i in range(4):\n",
    "    print(\"****** Feature importances for class \" + str(i) +\" ******\")\n",
    "    shap.summary_plot(shap_values[i], xtrain[feat], plot_type=\"bar\")\n",
    "    shap.summary_plot(shap_values[i], features=xtrain[feat], feature_names=feat)"
   ]
  },
  {
   "cell_type": "code",
   "execution_count": null,
   "metadata": {
    "ExecuteTime": {
     "end_time": "2022-05-30T17:34:22.305654Z",
     "start_time": "2022-05-30T17:34:21.956046Z"
    }
   },
   "outputs": [],
   "source": [
    "#Normal Feature Importance: Choose a value of top k and dispaly top_k features of the model\n",
    "top_k = 15\n",
    "\n",
    "importances = pd.DataFrame()\n",
    "importances ['feature'] = feat\n",
    "importances ['feature_imp'] = clf.best_estimator_.named_steps[\"rf\"].feature_importances_\n",
    "\n",
    "print(\"Feature_Imp\")\n",
    "\n",
    "plt.figure(figsize = (8, 12))\n",
    "sns.barplot(x = 'feature_imp', y = 'feature', data=importances.sort_values('feature_imp', ascending=False).head(top_k))"
   ]
  },
  {
   "cell_type": "code",
   "execution_count": null,
   "metadata": {
    "ExecuteTime": {
     "end_time": "2022-05-30T17:34:22.339656Z",
     "start_time": "2022-05-30T17:34:22.308652Z"
    }
   },
   "outputs": [],
   "source": [
    "importances"
   ]
  },
  {
   "cell_type": "markdown",
   "metadata": {},
   "source": [
    "####LGB Starts####"
   ]
  },
  {
   "cell_type": "code",
   "execution_count": null,
   "metadata": {
    "ExecuteTime": {
     "end_time": "2022-05-30T17:34:22.354649Z",
     "start_time": "2022-05-30T17:34:22.341652Z"
    }
   },
   "outputs": [],
   "source": [
    "# lightgbm hyperparameter tuning\n",
    "pipe = Pipeline(steps=[\n",
    "    ('scale', MinMaxScaler()),\n",
    "    ('impute', KNNImputer(n_neighbors=3)),\n",
    "    ('lgb', lgb.LGBMClassifier(random_state=2021, n_estimators=250))\n",
    "])\n",
    "\n",
    "params = {'lgb__max_depth': [4, 6, 8],\n",
    "          'lgb__num_leaves': [16, 32],\n",
    "          'lgb__colsample_bytree': [0.5, 0.75, 1],\n",
    "          'lgb__subsample': [0.75, 0.85, 1]}"
   ]
  },
  {
   "cell_type": "code",
   "execution_count": null,
   "metadata": {
    "ExecuteTime": {
     "end_time": "2022-05-30T17:36:59.421579Z",
     "start_time": "2022-05-30T17:34:22.356651Z"
    }
   },
   "outputs": [],
   "source": [
    "# Making two Lgb models; 1 which does parameter tuning on accuracy other on QWK; Store 3 metrics for both.\n",
    "\n",
    "# 10 fold cross validation is used for hyperparameter tuning using accuracy\n",
    "\n",
    "clf_acc = GridSearchCV(pipe, params, cv=10, n_jobs=-1, scoring='accuracy')\n",
    "\n",
    "clf_acc.fit(xtrain[feat], ytrain)\n",
    "\n",
    "score = cross_val_score(clf_acc.best_estimator_, xtrain[feat], ytrain, cv=10, scoring='accuracy')\n",
    "\n",
    "model_lgb_acc = clf_acc.best_estimator_\n",
    "\n",
    "model_lgb_acc.fit(xtrain[feat], ytrain)\n",
    "\n",
    "pred = clf_acc.best_estimator_.predict(xtest[feat])\n",
    "\n",
    "print(\"Classification Report for the test set with Accuracy as metric {}\".format(classification_report(ytest, pred)))\n",
    "\n",
    "print_cmx(ytest, pred, \"Accuracy as Metric\")\n",
    "\n",
    "acc = accuracy_score(ytest, pred)\n",
    "qwk = sklearn_qwk(ytest, pred)\n",
    "one_away_acc = one_away_accuracy(ytest, pred)\n",
    "\n",
    "model_outputs.append({\n",
    "    'model': \"LightGBM_acc\",\n",
    "    'cv_score_mean': score.mean(),\n",
    "    'cv_score_std': score.std(),\n",
    "    'test_accuracy': acc,\n",
    "    'test_qwk': qwk,\n",
    "    'test_one_away': one_away_acc\n",
    "})\n",
    "\n",
    "# 10 fold cross validation is used for hyperparameter tuning using QWK\n",
    "clf_qwk = GridSearchCV(pipe, params, cv=10, n_jobs=-1, scoring=kappa_scorer)\n",
    "\n",
    "clf_qwk.fit(xtrain[feat], ytrain)\n",
    "\n",
    "score_qwk = cross_val_score(clf_qwk.best_estimator_, xtrain[feat], ytrain, cv=10, scoring='accuracy')\n",
    "\n",
    "model_lgb_qwk = clf_qwk.best_estimator_\n",
    "\n",
    "model_lgb_qwk.fit(xtrain[feat], ytrain)\n",
    "\n",
    "pred = clf_qwk.best_estimator_.predict(xtest[feat])\n",
    "\n",
    "print(\"Classification Report for the test set with QWK as metric {}\".format(classification_report(ytest, pred)))\n",
    "\n",
    "print_cmx(ytest, pred, \"QWK as Metric\")\n",
    "\n",
    "acc = accuracy_score(ytest, pred)\n",
    "qwk = sklearn_qwk(ytest, pred)\n",
    "one_away_acc = one_away_accuracy(ytest, pred)\n",
    "\n",
    "model_outputs.append({\n",
    "    'model': \"LightGBM_qwk\",\n",
    "    'cv_score_mean': score.mean(),\n",
    "    'cv_score_std': score.std(),\n",
    "    'test_accuracy': acc,\n",
    "    'test_qwk': qwk,\n",
    "    'test_one_away': one_away_acc\n",
    "})"
   ]
  },
  {
   "cell_type": "code",
   "execution_count": null,
   "metadata": {
    "ExecuteTime": {
     "end_time": "2022-05-30T17:36:59.437469Z",
     "start_time": "2022-05-30T17:36:59.423463Z"
    }
   },
   "outputs": [],
   "source": [
    "model_outputs"
   ]
  },
  {
   "cell_type": "markdown",
   "metadata": {},
   "source": [
    "###Accuracy Plots###"
   ]
  },
  {
   "cell_type": "code",
   "execution_count": null,
   "metadata": {
    "ExecuteTime": {
     "end_time": "2022-05-30T17:36:59.664157Z",
     "start_time": "2022-05-30T17:36:59.439464Z"
    }
   },
   "outputs": [],
   "source": [
    "#Normal Feature Importance: Choose a value of top k and dispaly top_k features of the model \n",
    "#Accuracy\n",
    "\n",
    "top_k = 15\n",
    "\n",
    "importances = pd.DataFrame()\n",
    "importances ['feature'] = feat\n",
    "importances ['feature_imp'] = clf_acc.best_estimator_.named_steps[\"lgb\"].feature_importances_\n",
    "\n",
    "print(\"Feature_Imp\")\n",
    "\n",
    "plt.figure(figsize = (8, 12))\n",
    "sns.barplot(x = 'feature_imp', y = 'feature', data=importances.sort_values('feature_imp', ascending=False).head(top_k))"
   ]
  },
  {
   "cell_type": "code",
   "execution_count": null,
   "metadata": {
    "ExecuteTime": {
     "end_time": "2022-05-30T17:36:59.688088Z",
     "start_time": "2022-05-30T17:36:59.666156Z"
    }
   },
   "outputs": [],
   "source": [
    "importances"
   ]
  },
  {
   "cell_type": "code",
   "execution_count": null,
   "metadata": {
    "ExecuteTime": {
     "end_time": "2022-05-30T17:37:03.287327Z",
     "start_time": "2022-05-30T17:36:59.689092Z"
    }
   },
   "outputs": [],
   "source": [
    "# SHAP values are calculated for each class individually\n",
    "explainer = shap.TreeExplainer(model_lgb_acc['lgb'])\n",
    "\n",
    "shap_values = np.array(explainer.shap_values(xtrain))\n",
    "\n",
    "# feature importance for class i for loop\n",
    "for i in range(4):\n",
    "    print(\"****** Feature importances for class \" + str(i) +\" ******\")\n",
    "    shap.summary_plot(shap_values[i], xtrain[feat], plot_type=\"bar\")\n",
    "    shap.summary_plot(shap_values[i], features=xtrain[feat], feature_names=feat)"
   ]
  },
  {
   "cell_type": "markdown",
   "metadata": {},
   "source": [
    "###QWK Plots###"
   ]
  },
  {
   "cell_type": "code",
   "execution_count": null,
   "metadata": {
    "ExecuteTime": {
     "end_time": "2022-05-30T17:37:03.470735Z",
     "start_time": "2022-05-30T17:37:03.289013Z"
    }
   },
   "outputs": [],
   "source": [
    "#Normal Feature Importance: Choose a value of top k and dispaly top_k features of the model \n",
    "#Accuracy\n",
    "\n",
    "top_k = 15\n",
    "\n",
    "importances = pd.DataFrame()\n",
    "importances ['feature'] = feat\n",
    "importances ['feature_imp'] = clf_qwk.best_estimator_.named_steps[\"lgb\"].feature_importances_\n",
    "\n",
    "print(\"Feature_Imp\")\n",
    "\n",
    "plt.figure(figsize = (8, 12))\n",
    "sns.barplot(x = 'feature_imp', y = 'feature', data=importances.sort_values('feature_imp', ascending=False).head(top_k))"
   ]
  },
  {
   "cell_type": "code",
   "execution_count": null,
   "metadata": {
    "ExecuteTime": {
     "end_time": "2022-05-30T17:37:03.486447Z",
     "start_time": "2022-05-30T17:37:03.472473Z"
    }
   },
   "outputs": [],
   "source": [
    "importances"
   ]
  },
  {
   "cell_type": "code",
   "execution_count": null,
   "metadata": {
    "ExecuteTime": {
     "end_time": "2022-05-30T17:37:07.393404Z",
     "start_time": "2022-05-30T17:37:03.488453Z"
    }
   },
   "outputs": [],
   "source": [
    "# SHAP values are calculated for each class individually\n",
    "explainer = shap.TreeExplainer(model_lgb_qwk['lgb'])\n",
    "\n",
    "shap_values = np.array(explainer.shap_values(xtrain))\n",
    "\n",
    "# feature importance for class i for loop\n",
    "for i in range(4):\n",
    "    print(\"****** Feature importances for class \" + str(i) +\" ******\")\n",
    "    shap.summary_plot(shap_values[i], xtrain[feat], plot_type=\"bar\")\n",
    "    shap.summary_plot(shap_values[i], features=xtrain[feat], feature_names=feat)"
   ]
  },
  {
   "cell_type": "code",
   "execution_count": null,
   "metadata": {
    "ExecuteTime": {
     "end_time": "2022-05-30T17:37:07.414606Z",
     "start_time": "2022-05-30T17:37:07.393404Z"
    }
   },
   "outputs": [],
   "source": [
    "###Accuracy Plots#### using an additional step to use lightgbm's inbuilt capacility to handle missing values\n",
    "pipe = Pipeline(steps=[\n",
    "    ('lgb', lgb.LGBMClassifier(random_state=2021, n_estimators=200))\n",
    "])\n",
    "\n",
    "params = {'lgb__max_depth': [4, 6, 8],\n",
    "          'lgb__num_leaves': [16, 32],\n",
    "          'lgb__colsample_bytree': [0.5, 0.75, 1],\n",
    "          'lgb__subsample': [0.75, 0.85, 1]}"
   ]
  },
  {
   "cell_type": "code",
   "execution_count": null,
   "metadata": {
    "ExecuteTime": {
     "end_time": "2022-05-30T17:39:16.735841Z",
     "start_time": "2022-05-30T17:37:07.415932Z"
    }
   },
   "outputs": [],
   "source": [
    "# 10 fold cross validation is used for hyperparameter tuning with accuracy\n",
    "clf_acc = GridSearchCV(pipe, params, cv=10, n_jobs=-1, scoring='accuracy')\n",
    "\n",
    "clf_acc.fit(xtrain, ytrain)\n",
    "\n",
    "score = cross_val_score(clf_acc.best_estimator_, xtrain, ytrain, cv=10, scoring='accuracy')\n",
    "\n",
    "model_lgb_noimp = clf_acc.best_estimator_\n",
    "\n",
    "model_lgb_noimp.fit(xtrain, ytrain)\n",
    "\n",
    "pred = clf_acc.best_estimator_.predict(xtest)\n",
    "\n",
    "print(\"Classification Report for the test set with Accuracy as metric {}\".format(classification_report(ytest, pred)))\n",
    "\n",
    "print_cmx(ytest, pred, \"Accuracy as Metric\")\n",
    "\n",
    "acc = accuracy_score(ytest, pred)\n",
    "qwk = sklearn_qwk(ytest, pred)\n",
    "one_away_acc = one_away_accuracy(ytest, pred)\n",
    "\n",
    "model_outputs.append({\n",
    "    'model': \"LightGBM_no_imputation_acc\",\n",
    "    'cv_score_mean': score.mean(),\n",
    "    'cv_score_std': score.std(),\n",
    "    'test_accuracy': acc,\n",
    "    'test_qwk': qwk,\n",
    "    'test_one_away': one_away_acc\n",
    "})\n",
    "\n",
    "# 10fold cross validation is used for hyperparameter tuning with QWK\n",
    "clf_qwk = GridSearchCV(pipe, params, cv=10, n_jobs=-1, scoring=kappa_scorer)\n",
    "\n",
    "clf_qwk.fit(xtrain, ytrain)\n",
    "\n",
    "score_qwk = cross_val_score(clf_qwk.best_estimator_, xtrain, ytrain, cv=10, scoring='accuracy')\n",
    "\n",
    "model_lgb_qwk_noimp = clf_qwk.best_estimator_\n",
    "\n",
    "model_lgb_qwk_noimp.fit(xtrain, ytrain)\n",
    "\n",
    "pred = clf_qwk.best_estimator_.predict(xtest)\n",
    "\n",
    "print(\"Classification Report for the test set with QWK as metric {}\".format(classification_report(ytest, pred)))\n",
    "\n",
    "print_cmx(ytest, pred, \"QWK as Metric\")\n",
    "\n",
    "acc = accuracy_score(ytest, pred)\n",
    "qwk = sklearn_qwk(ytest, pred)\n",
    "one_away_acc = one_away_accuracy(ytest, pred)\n",
    "\n",
    "model_outputs.append({\n",
    "    'model': \"LightGBM_no_imputation_qwk\",\n",
    "    'cv_score_mean': score.mean(),\n",
    "    'cv_score_std': score.std(),\n",
    "    'test_accuracy': acc,\n",
    "    'test_qwk': qwk,\n",
    "    'test_one_away': one_away_acc\n",
    "})\n",
    "\n"
   ]
  },
  {
   "cell_type": "code",
   "execution_count": null,
   "metadata": {
    "ExecuteTime": {
     "end_time": "2022-05-30T17:39:16.751841Z",
     "start_time": "2022-05-30T17:39:16.737840Z"
    }
   },
   "outputs": [],
   "source": [
    "model_outputs"
   ]
  },
  {
   "cell_type": "code",
   "execution_count": null,
   "metadata": {
    "ExecuteTime": {
     "end_time": "2022-05-30T17:39:20.070624Z",
     "start_time": "2022-05-30T17:39:16.753840Z"
    }
   },
   "outputs": [],
   "source": [
    "# SHAP values are calculated for each class individually\n",
    "explainer = shap.TreeExplainer(model_lgb_noimp['lgb'])\n",
    "\n",
    "shap_values = np.array(explainer.shap_values(xtrain))\n",
    "\n",
    "# feature importance for class i for loop\n",
    "for i in range(4):\n",
    "    print(\"****** Feature importances for class \" + str(i) +\" ******\")\n",
    "    shap.summary_plot(shap_values[i], xtrain[feat], plot_type=\"bar\")\n",
    "    shap.summary_plot(shap_values[i], features=xtrain[feat], feature_names=feat)"
   ]
  },
  {
   "cell_type": "code",
   "execution_count": null,
   "metadata": {
    "ExecuteTime": {
     "end_time": "2022-05-30T17:39:20.244868Z",
     "start_time": "2022-05-30T17:39:20.072285Z"
    }
   },
   "outputs": [],
   "source": [
    "#Normal Feature Importance: Choose a value of top k and dispaly top_k features of the model \n",
    "#Accuracy\n",
    "\n",
    "top_k = 15\n",
    "\n",
    "importances = pd.DataFrame()\n",
    "importances ['feature'] = feat\n",
    "importances ['feature_imp'] = clf_acc.best_estimator_.named_steps[\"lgb\"].feature_importances_\n",
    "\n",
    "print(\"Feature_Imp\")\n",
    "\n",
    "plt.figure(figsize = (8, 12))\n",
    "sns.barplot(x = 'feature_imp', y = 'feature', data=importances.sort_values('feature_imp', ascending=False).head(top_k))"
   ]
  },
  {
   "cell_type": "code",
   "execution_count": null,
   "metadata": {
    "ExecuteTime": {
     "end_time": "2022-05-30T17:39:20.260969Z",
     "start_time": "2022-05-30T17:39:20.245868Z"
    }
   },
   "outputs": [],
   "source": [
    "importances"
   ]
  },
  {
   "cell_type": "markdown",
   "metadata": {},
   "source": [
    "###QWK###"
   ]
  },
  {
   "cell_type": "code",
   "execution_count": null,
   "metadata": {
    "ExecuteTime": {
     "end_time": "2022-05-30T17:39:20.442689Z",
     "start_time": "2022-05-30T17:39:20.261974Z"
    }
   },
   "outputs": [],
   "source": [
    "#Normal Feature Importance: Choose a value of top k and dispaly top_k features of the model \n",
    "#Accuracy\n",
    "\n",
    "top_k = 15\n",
    "\n",
    "importances = pd.DataFrame()\n",
    "importances ['feature'] = feat\n",
    "importances ['feature_imp'] = clf_qwk.best_estimator_.named_steps[\"lgb\"].feature_importances_\n",
    "\n",
    "print(\"Feature_Imp\")\n",
    "\n",
    "plt.figure(figsize = (8, 12))\n",
    "sns.barplot(x = 'feature_imp', y = 'feature', data=importances.sort_values('feature_imp', ascending=False).head(top_k))"
   ]
  },
  {
   "cell_type": "code",
   "execution_count": null,
   "metadata": {
    "ExecuteTime": {
     "end_time": "2022-05-30T17:39:20.457957Z",
     "start_time": "2022-05-30T17:39:20.443687Z"
    }
   },
   "outputs": [],
   "source": [
    "importances"
   ]
  },
  {
   "cell_type": "code",
   "execution_count": null,
   "metadata": {
    "ExecuteTime": {
     "end_time": "2022-05-30T17:39:23.920213Z",
     "start_time": "2022-05-30T17:39:20.458958Z"
    }
   },
   "outputs": [],
   "source": [
    "# SHAP values are calculated for each class individually\n",
    "explainer = shap.TreeExplainer(model_lgb_qwk_noimp['lgb'])\n",
    "\n",
    "shap_values = np.array(explainer.shap_values(xtrain))\n",
    "\n",
    "# feature importance for class i for loop\n",
    "for i in range(4):\n",
    "    print(\"****** Feature importances for class \" + str(i) +\" ******\")\n",
    "    shap.summary_plot(shap_values[i], xtrain[feat], plot_type=\"bar\")\n",
    "    shap.summary_plot(shap_values[i], features=xtrain[feat], feature_names=feat)"
   ]
  },
  {
   "cell_type": "markdown",
   "metadata": {},
   "source": [
    "####XGB Starts####"
   ]
  },
  {
   "cell_type": "code",
   "execution_count": null,
   "metadata": {
    "ExecuteTime": {
     "end_time": "2022-05-30T17:39:23.948026Z",
     "start_time": "2022-05-30T17:39:23.922399Z"
    }
   },
   "outputs": [],
   "source": [
    "# xgboost hyperparameter tuning\n",
    "pipe = Pipeline(steps=[\n",
    "    ('scale', MinMaxScaler()),\n",
    "    ('impute', KNNImputer(n_neighbors=3)),\n",
    "    ('xgb', xgb.XGBClassifier(random_state=2021, n_estimators=200, min_child_weight=3, use_label_encoder=False, eval_metric='mlogloss'))\n",
    "])\n",
    "\n",
    "params =  {\n",
    "        'xgb__max_depth': [3, 5, 8],\n",
    "        'xgb__subsample': [0.5, 0.7, 0.9],\n",
    "        'xgb__colsample_bytree': [0.5, 0.7, 0.9],\n",
    "    }"
   ]
  },
  {
   "cell_type": "code",
   "execution_count": null,
   "metadata": {
    "ExecuteTime": {
     "end_time": "2022-05-30T17:39:23.962398Z",
     "start_time": "2022-05-30T17:39:23.948026Z"
    }
   },
   "outputs": [],
   "source": [
    "ytrain.value_counts()"
   ]
  },
  {
   "cell_type": "code",
   "execution_count": null,
   "metadata": {
    "ExecuteTime": {
     "end_time": "2022-05-30T17:41:42.607786Z",
     "start_time": "2022-05-30T17:39:23.963364Z"
    }
   },
   "outputs": [],
   "source": [
    "# 10 fold cross validation is used for hyperparameter tuning with accuracy\n",
    "clf_acc = GridSearchCV(pipe, params, cv=10, n_jobs=-1, scoring='accuracy')\n",
    "\n",
    "clf_acc.fit(xtrain, ytrain)\n",
    "\n",
    "score = cross_val_score(clf_acc.best_estimator_, xtrain, ytrain, cv=10, scoring='accuracy')\n",
    "\n",
    "model_xgb = clf_acc.best_estimator_\n",
    "\n",
    "model_xgb.fit(xtrain, ytrain)\n",
    "\n",
    "pred = clf_acc.best_estimator_.predict(xtest)\n",
    "\n",
    "print(\"Classification Report for the test set with Accuracy as metric {}\".format(classification_report(ytest, pred)))\n",
    "\n",
    "print_cmx(ytest, pred, \"Accuracy as Metric\")\n",
    "\n",
    "acc = accuracy_score(ytest, pred)\n",
    "qwk = sklearn_qwk(ytest, pred)\n",
    "one_away_acc = one_away_accuracy(ytest, pred)\n",
    "\n",
    "model_outputs.append({\n",
    "    'model': \"XGBoost_acc\",\n",
    "    'cv_score_mean': score.mean(),\n",
    "    'cv_score_std': score.std(),\n",
    "    'test_accuracy': acc,\n",
    "    'test_qwk': qwk,\n",
    "    'test_one_away': one_away_acc\n",
    "})\n",
    "\n",
    "# 10fold cross validation is used for hyperparameter tuning with QWK\n",
    "clf_qwk = GridSearchCV(pipe, params, cv=10, n_jobs=-1, scoring=kappa_scorer)\n",
    "\n",
    "clf_qwk.fit(xtrain, ytrain)\n",
    "\n",
    "score_qwk = cross_val_score(clf_qwk.best_estimator_, xtrain, ytrain, cv=10, scoring='accuracy')\n",
    "\n",
    "model_xgb_qwk = clf_qwk.best_estimator_\n",
    "\n",
    "model_xgb_qwk.fit(xtrain, ytrain)\n",
    "\n",
    "pred = clf_qwk.best_estimator_.predict(xtest)\n",
    "\n",
    "print(\"Classification Report for the test set with QWK as metric {}\".format(classification_report(ytest, pred)))\n",
    "\n",
    "print_cmx(ytest, pred, \"QWK as Metric\")\n",
    "\n",
    "acc_qwk = accuracy_score(ytest, pred)\n",
    "\n",
    "model_outputs.append({\n",
    "    'model': \"XGBoost_qwk\",\n",
    "    'cv_score_mean': score.mean(),\n",
    "    'cv_score_std': score.std(),\n",
    "    'test_accuracy': acc,\n",
    "    'test_qwk': qwk,\n",
    "    'test_one_away': one_away_acc\n",
    "})\n"
   ]
  },
  {
   "cell_type": "code",
   "execution_count": null,
   "metadata": {
    "ExecuteTime": {
     "end_time": "2022-05-30T17:41:42.638528Z",
     "start_time": "2022-05-30T17:41:42.609787Z"
    }
   },
   "outputs": [],
   "source": [
    "model_outputs"
   ]
  },
  {
   "cell_type": "markdown",
   "metadata": {},
   "source": [
    "###Accurcay Plots###"
   ]
  },
  {
   "cell_type": "code",
   "execution_count": null,
   "metadata": {
    "ExecuteTime": {
     "end_time": "2022-05-30T17:41:43.033040Z",
     "start_time": "2022-05-30T17:41:42.641215Z"
    }
   },
   "outputs": [],
   "source": [
    "#Normal Feature Importance: Choose a value of top k and dispaly top_k features of the model \n",
    "#Accuracy\n",
    "\n",
    "top_k = 15\n",
    "\n",
    "importances = pd.DataFrame()\n",
    "importances ['feature'] = feat\n",
    "importances ['feature_imp'] = clf_acc.best_estimator_.named_steps[\"xgb\"].feature_importances_\n",
    "\n",
    "print(\"Feature_Imp\")\n",
    "\n",
    "plt.figure(figsize = (8, 12))\n",
    "sns.barplot(x = 'feature_imp', y = 'feature', data=importances.sort_values('feature_imp', ascending=False).head(top_k))"
   ]
  },
  {
   "cell_type": "code",
   "execution_count": null,
   "metadata": {
    "ExecuteTime": {
     "end_time": "2022-05-30T17:41:43.065042Z",
     "start_time": "2022-05-30T17:41:43.036041Z"
    }
   },
   "outputs": [],
   "source": [
    "importances"
   ]
  },
  {
   "cell_type": "code",
   "execution_count": null,
   "metadata": {
    "ExecuteTime": {
     "end_time": "2022-05-30T17:41:46.659054Z",
     "start_time": "2022-05-30T17:41:43.068043Z"
    }
   },
   "outputs": [],
   "source": [
    "# SHAP values are calculated for each class individually\n",
    "explainer = shap.TreeExplainer(model_xgb['xgb'])\n",
    "\n",
    "shap_values = np.array(explainer.shap_values(xtrain))\n",
    "\n",
    "# feature importance for class i for loop\n",
    "for i in range(4):\n",
    "    print(\"****** Feature importances for class \" + str(i) +\" ******\")\n",
    "    shap.summary_plot(shap_values[i], xtrain[feat], plot_type=\"bar\")\n",
    "    shap.summary_plot(shap_values[i], features=xtrain[feat], feature_names=feat)"
   ]
  },
  {
   "cell_type": "markdown",
   "metadata": {},
   "source": [
    "###QWK Plots###"
   ]
  },
  {
   "cell_type": "code",
   "execution_count": null,
   "metadata": {
    "ExecuteTime": {
     "end_time": "2022-05-30T17:41:47.269983Z",
     "start_time": "2022-05-30T17:41:46.661696Z"
    }
   },
   "outputs": [],
   "source": [
    "#Normal Feature Importance: Choose a value of top k and dispaly top_k features of the model \n",
    "#Accuracy\n",
    "\n",
    "top_k = 15\n",
    "\n",
    "importances = pd.DataFrame()\n",
    "importances ['feature'] = feat\n",
    "importances ['feature_imp'] = clf_qwk.best_estimator_.named_steps[\"xgb\"].feature_importances_\n",
    "data_imp = importances.sort_values('feature_imp', ascending=False)\n",
    "list_idx = [0,1,2,3,4,5,6,7,8,9,11,12,13,14,15]\n",
    "data_imp_idx = data_imp.iloc[list_idx]\n",
    "\n",
    "print(\"Feature_Imp\")\n",
    "\n",
    "plt.figure(figsize = (8, 12))\n",
    "sns.barplot(x = 'feature_imp', y = 'feature', data=data_imp_idx)\n",
    "plt.savefig('C:/Users/mghosh/OneDrive - UvA/Work/WFP_Wasting/Results/Hotspot_1205_1away/Charts_Figures/feature_importance_case2.pdf',\n",
    "           dpi=300, bbox_inches = \"tight\")"
   ]
  },
  {
   "cell_type": "code",
   "execution_count": null,
   "metadata": {
    "ExecuteTime": {
     "end_time": "2022-05-30T17:41:47.284987Z",
     "start_time": "2022-05-30T17:41:47.271991Z"
    }
   },
   "outputs": [],
   "source": [
    "importances"
   ]
  },
  {
   "cell_type": "code",
   "execution_count": null,
   "metadata": {
    "ExecuteTime": {
     "end_time": "2022-05-30T17:41:51.324903Z",
     "start_time": "2022-05-30T17:41:47.286988Z"
    }
   },
   "outputs": [],
   "source": [
    "# SHAP values are calculated for each class individually\n",
    "explainer = shap.TreeExplainer(model_xgb_qwk['xgb'])\n",
    "\n",
    "shap_values = np.array(explainer.shap_values(xtrain))\n",
    "\n",
    "# feature importance for class i for loop\n",
    "for i in range(4):\n",
    "    print(\"****** Feature importances for class \" + str(i) +\" ******\")\n",
    "    shap.summary_plot(shap_values[i], xtrain[feat], plot_type=\"bar\")\n",
    "    shap.summary_plot(shap_values[i], features=xtrain[feat], feature_names=feat)"
   ]
  },
  {
   "cell_type": "code",
   "execution_count": null,
   "metadata": {
    "ExecuteTime": {
     "end_time": "2022-05-30T17:41:53.528084Z",
     "start_time": "2022-05-30T17:41:51.327219Z"
    }
   },
   "outputs": [],
   "source": [
    "shap.summary_plot(shap_values[3], features=xtrain[feat], feature_names=feat, show=False)\n",
    "plt.savefig('C:/Users/mghosh/OneDrive - UvA/Work/WFP_Wasting/Results/Hotspot_1205_1away/Charts_Figures/SHAP_case2_Very High.pdf',\n",
    "           dpi=300, bbox_inches = \"tight\")"
   ]
  },
  {
   "cell_type": "code",
   "execution_count": null,
   "metadata": {
    "ExecuteTime": {
     "end_time": "2022-05-30T17:41:53.543030Z",
     "start_time": "2022-05-30T17:41:53.530033Z"
    }
   },
   "outputs": [],
   "source": [
    "# xgboost hyperparameter tuning without imputation\n",
    "pipe = Pipeline(steps=[\n",
    "  ('xgb', xgb.XGBClassifier(random_state=2021, n_estimators=200, min_child_weight=3, use_label_encoder=False, eval_metric='mlogloss'))\n",
    "])\n",
    "\n",
    "params =  {\n",
    "        'xgb__max_depth': [3, 5, 8],\n",
    "        'xgb__subsample': [0.5, 0.7, 0.9],\n",
    "        'xgb__colsample_bytree': [0.5, 0.7, 0.9],\n",
    "    }"
   ]
  },
  {
   "cell_type": "code",
   "execution_count": null,
   "metadata": {
    "ExecuteTime": {
     "end_time": "2022-05-30T17:44:19.191842Z",
     "start_time": "2022-05-30T17:41:53.545032Z"
    }
   },
   "outputs": [],
   "source": [
    "# 10 fold cross validation is used for hyperparameter tuning\n",
    "clf_acc = GridSearchCV(pipe, params, cv=10, n_jobs=-1, scoring='accuracy')\n",
    "\n",
    "clf_acc.fit(xtrain, ytrain)\n",
    "\n",
    "score = cross_val_score(clf_acc.best_estimator_, xtrain, ytrain, cv=10, scoring='accuracy')\n",
    "\n",
    "model_xgb_noimp = clf_acc.best_estimator_\n",
    "\n",
    "model_xgb_noimp.fit(xtrain, ytrain)\n",
    "\n",
    "pred = clf_acc.best_estimator_.predict(xtest)\n",
    "\n",
    "print(\"Classification Report for the test set with Accuracy as metric {}\".format(classification_report(ytest, pred)))\n",
    "\n",
    "print_cmx(ytest, pred, \"Accuracy as Metric\")\n",
    "\n",
    "acc = accuracy_score(ytest, pred)\n",
    "qwk = sklearn_qwk(ytest, pred)\n",
    "one_away_acc = one_away_accuracy(ytest, pred)\n",
    "\n",
    "model_outputs.append({\n",
    "    'model': \"XGBoost_no_imputation_acc\",\n",
    "    'cv_score_mean': score.mean(),\n",
    "    'cv_score_std': score.std(),\n",
    "    'test_accuracy': acc,\n",
    "    'test_qwk': qwk,\n",
    "    'test_one_away': one_away_acc\n",
    "})\n",
    "\n",
    "# 10fold cross validation is used for hyperparameter tuning\n",
    "clf_qwk = GridSearchCV(pipe, params, cv=10, n_jobs=-1, scoring=kappa_scorer)\n",
    "\n",
    "clf_qwk.fit(xtrain, ytrain)\n",
    "\n",
    "score_qwk = cross_val_score(clf_qwk.best_estimator_, xtrain, ytrain, cv=10, scoring='accuracy')\n",
    "\n",
    "model_xgb_qwk_noimp = clf_qwk.best_estimator_\n",
    "\n",
    "model_xgb_qwk_noimp.fit(xtrain, ytrain)\n",
    "\n",
    "pred = clf_qwk.best_estimator_.predict(xtest)\n",
    "\n",
    "print(\"Classification Report for the test set with QWK as metric {}\".format(classification_report(ytest, pred)))\n",
    "\n",
    "print_cmx(ytest, pred, \"QWK as Metric\")\n",
    "\n",
    "acc = accuracy_score(ytest, pred)\n",
    "qwk = sklearn_qwk(ytest, pred)\n",
    "one_away_acc = one_away_accuracy(ytest, pred)\n",
    "\n",
    "model_outputs.append({\n",
    "    'model': \"XGBoost_no_imputation_qwk\",\n",
    "    'cv_score_mean': score.mean(),\n",
    "    'cv_score_std': score.std(),\n",
    "    'test_accuracy': acc,\n",
    "    'test_qwk': qwk,\n",
    "    'test_one_away': one_away_acc\n",
    "})\n",
    "\n"
   ]
  },
  {
   "cell_type": "code",
   "execution_count": null,
   "metadata": {
    "ExecuteTime": {
     "end_time": "2022-05-30T17:44:19.207851Z",
     "start_time": "2022-05-30T17:44:19.193850Z"
    }
   },
   "outputs": [],
   "source": [
    "model_outputs"
   ]
  },
  {
   "cell_type": "markdown",
   "metadata": {},
   "source": [
    "###Acuracy Plots###"
   ]
  },
  {
   "cell_type": "code",
   "execution_count": null,
   "metadata": {
    "ExecuteTime": {
     "end_time": "2022-05-30T17:44:19.490313Z",
     "start_time": "2022-05-30T17:44:19.209852Z"
    }
   },
   "outputs": [],
   "source": [
    "#Normal Feature Importance: Choose a value of top k and dispaly top_k features of the model \n",
    "#Accuracy\n",
    "\n",
    "top_k = 15\n",
    "\n",
    "importances = pd.DataFrame()\n",
    "importances ['feature'] = feat\n",
    "importances ['feature_imp'] = clf_acc.best_estimator_.named_steps[\"xgb\"].feature_importances_\n",
    "\n",
    "print(\"Feature_Imp\")\n",
    "\n",
    "plt.figure(figsize = (8, 12))\n",
    "sns.barplot(x = 'feature_imp', y = 'feature', data=importances.sort_values('feature_imp', ascending=False).head(top_k))"
   ]
  },
  {
   "cell_type": "code",
   "execution_count": null,
   "metadata": {
    "ExecuteTime": {
     "end_time": "2022-05-30T17:44:19.522582Z",
     "start_time": "2022-05-30T17:44:19.492056Z"
    }
   },
   "outputs": [],
   "source": [
    "importances"
   ]
  },
  {
   "cell_type": "code",
   "execution_count": null,
   "metadata": {
    "ExecuteTime": {
     "end_time": "2022-05-30T17:44:22.873194Z",
     "start_time": "2022-05-30T17:44:19.523584Z"
    }
   },
   "outputs": [],
   "source": [
    "# SHAP values are calculated for each class individually\n",
    "explainer = shap.TreeExplainer(model_xgb_noimp['xgb'])\n",
    "\n",
    "shap_values = np.array(explainer.shap_values(xtrain))\n",
    "\n",
    "# feature importance for class i for loop\n",
    "for i in range(4):\n",
    "    print(\"****** Feature importances for class \" + str(i) +\" ******\")\n",
    "    shap.summary_plot(shap_values[i], xtrain[feat], plot_type=\"bar\")\n",
    "    shap.summary_plot(shap_values[i], features=xtrain[feat], feature_names=feat)"
   ]
  },
  {
   "cell_type": "markdown",
   "metadata": {},
   "source": [
    "###QWK Plots###"
   ]
  },
  {
   "cell_type": "code",
   "execution_count": null,
   "metadata": {
    "ExecuteTime": {
     "end_time": "2022-05-30T17:44:23.125997Z",
     "start_time": "2022-05-30T17:44:22.876054Z"
    }
   },
   "outputs": [],
   "source": [
    "#Normal Feature Importance: Choose a value of top k and dispaly top_k features of the model \n",
    "#Accuracy\n",
    "\n",
    "top_k = 15\n",
    "\n",
    "importances = pd.DataFrame()\n",
    "importances ['feature'] = feat\n",
    "importances ['feature_imp'] = clf_qwk.best_estimator_.named_steps[\"xgb\"].feature_importances_\n",
    "\n",
    "print(\"Feature_Imp\")\n",
    "\n",
    "plt.figure(figsize = (8, 12))\n",
    "sns.barplot(x = 'feature_imp', y = 'feature', data=importances.sort_values('feature_imp', ascending=False).head(top_k))"
   ]
  },
  {
   "cell_type": "code",
   "execution_count": null,
   "metadata": {
    "ExecuteTime": {
     "end_time": "2022-05-30T17:44:23.157953Z",
     "start_time": "2022-05-30T17:44:23.127954Z"
    }
   },
   "outputs": [],
   "source": [
    "importances"
   ]
  },
  {
   "cell_type": "code",
   "execution_count": null,
   "metadata": {
    "ExecuteTime": {
     "end_time": "2022-05-30T17:44:26.571326Z",
     "start_time": "2022-05-30T17:44:23.159954Z"
    }
   },
   "outputs": [],
   "source": [
    "# SHAP values are calculated for each class individually\n",
    "explainer = shap.TreeExplainer(model_xgb_qwk_noimp['xgb'])\n",
    "\n",
    "shap_values = np.array(explainer.shap_values(xtrain))\n",
    "\n",
    "# feature importance for class i for loop\n",
    "for i in range(4):\n",
    "    print(\"****** Feature importances for class \" + str(i) +\" ******\")\n",
    "    shap.summary_plot(shap_values[i], xtrain[feat], plot_type=\"bar\")\n",
    "    shap.summary_plot(shap_values[i], features=xtrain[feat], feature_names=feat)"
   ]
  },
  {
   "cell_type": "markdown",
   "metadata": {},
   "source": [
    "####SVM Starts####"
   ]
  },
  {
   "cell_type": "code",
   "execution_count": null,
   "metadata": {
    "ExecuteTime": {
     "end_time": "2022-05-30T17:44:26.586774Z",
     "start_time": "2022-05-30T17:44:26.573766Z"
    }
   },
   "outputs": [],
   "source": [
    "# for svm model we need to scale the numerical column - se define a pipeline\n",
    "pipe = Pipeline(steps=[\n",
    "    ('scale', MinMaxScaler()),\n",
    "    ('impute', KNNImputer(n_neighbors=3)),\n",
    "    ('svm', SVC(random_state=2021))\n",
    "])\n",
    "\n",
    "# defining parameter grid for finding the optimal C value using the training data\n",
    "params = {'svm__C':[0.01, 10, 100, 1000, 2500, 5000]}"
   ]
  },
  {
   "cell_type": "code",
   "execution_count": null,
   "metadata": {
    "ExecuteTime": {
     "end_time": "2022-05-30T17:44:28.746174Z",
     "start_time": "2022-05-30T17:44:26.587785Z"
    }
   },
   "outputs": [],
   "source": [
    "# 10 fold cross validation is used for hyperparameter tuning\n",
    "clf = GridSearchCV(pipe, params, cv=10, n_jobs=-1, scoring='accuracy')\n",
    "\n",
    "clf.fit(xtrain, ytrain)\n",
    "\n",
    "score = cross_val_score(clf.best_estimator_, xtrain, ytrain, cv=10, scoring='accuracy')\n",
    "\n",
    "model_svm = clf.best_estimator_\n",
    "\n",
    "model_svm.fit(xtrain, ytrain)\n",
    "\n",
    "pred = clf.best_estimator_.predict(xtest)\n",
    "\n",
    "print(\"Classification Report for the test set with Accuracy as metric {}\".format(classification_report(ytest, pred)))\n",
    "\n",
    "print_cmx(ytest, pred, \"Accuracy as Metric\")\n",
    "\n",
    "acc = accuracy_score(ytest, pred)\n",
    "qwk = sklearn_qwk(ytest, pred)\n",
    "one_away_acc = one_away_accuracy(ytest, pred)\n",
    "\n",
    "model_outputs.append({\n",
    "    'model': \"SVC_acc\",\n",
    "    'cv_score_mean': score.mean(),\n",
    "    'cv_score_std': score.std(),\n",
    "    'test_accuracy': acc,\n",
    "    'test_qwk': qwk,\n",
    "    'test_one_away': one_away_acc\n",
    "})\n",
    "\n",
    "# 10fold cross validation is used for hyperparameter tuning\n",
    "clf = GridSearchCV(pipe, params, cv=10, n_jobs=-1, scoring=kappa_scorer)\n",
    "\n",
    "clf.fit(xtrain, ytrain)\n",
    "\n",
    "score_qwk = cross_val_score(clf.best_estimator_, xtrain, ytrain, cv=10, scoring='accuracy')\n",
    "\n",
    "model_svm_qwk = clf.best_estimator_\n",
    "\n",
    "model_svm_qwk.fit(xtrain, ytrain)\n",
    "\n",
    "pred = clf.best_estimator_.predict(xtest)\n",
    "\n",
    "print(\"Classification Report for the test set with QWK as metric {}\".format(classification_report(ytest, pred)))\n",
    "\n",
    "print_cmx(ytest, pred, \"QWK as Metric\")\n",
    "\n",
    "acc = accuracy_score(ytest, pred)\n",
    "qwk = sklearn_qwk(ytest, pred)\n",
    "one_away_acc = one_away_accuracy(ytest, pred)\n",
    "\n",
    "model_outputs.append({\n",
    "    'model': \"SVC_acc\",\n",
    "    'cv_score_mean': score.mean(),\n",
    "    'cv_score_std': score.std(),\n",
    "    'test_accuracy': acc,\n",
    "    'test_qwk': qwk,\n",
    "    'test_one_away': one_away_acc\n",
    "})"
   ]
  },
  {
   "cell_type": "code",
   "execution_count": null,
   "metadata": {
    "ExecuteTime": {
     "end_time": "2022-05-30T17:45:29.212998Z",
     "start_time": "2022-05-30T17:44:28.747718Z"
    }
   },
   "outputs": [],
   "source": [
    "# svm explainer for SHAP values\n",
    "svm_explainer = shap.KernelExplainer(model_svm.predict,xtest.iloc[0:20])\n",
    "svm_shap_values = svm_explainer.shap_values(xtest.iloc[0:20])"
   ]
  },
  {
   "cell_type": "code",
   "execution_count": null,
   "metadata": {
    "ExecuteTime": {
     "end_time": "2022-05-30T17:45:29.923613Z",
     "start_time": "2022-05-30T17:45:29.214997Z"
    }
   },
   "outputs": [],
   "source": [
    "shap.summary_plot(svm_shap_values, xtest.iloc[0:20], plot_type=\"bar\")\n",
    "shap.summary_plot(svm_shap_values, xtest.iloc[0:20])\n"
   ]
  },
  {
   "cell_type": "code",
   "execution_count": null,
   "metadata": {
    "ExecuteTime": {
     "end_time": "2022-05-30T17:45:29.938806Z",
     "start_time": "2022-05-30T17:45:29.924612Z"
    }
   },
   "outputs": [],
   "source": [
    "# Summary of performance of all the models\n",
    "data_df = pd.DataFrame(model_outputs)"
   ]
  },
  {
   "cell_type": "code",
   "execution_count": null,
   "metadata": {
    "ExecuteTime": {
     "end_time": "2022-05-30T17:45:29.953980Z",
     "start_time": "2022-05-30T17:45:29.940421Z"
    }
   },
   "outputs": [],
   "source": [
    "data_df"
   ]
  },
  {
   "cell_type": "code",
   "execution_count": null,
   "metadata": {
    "ExecuteTime": {
     "end_time": "2022-05-30T17:45:29.970014Z",
     "start_time": "2022-05-30T17:45:29.954980Z"
    }
   },
   "outputs": [],
   "source": [
    "pd.DataFrame(model_outputs).to_csv(path_storage + \"performance_summary_2022_test_1205_sg_int.csv\", index=False)"
   ]
  },
  {
   "cell_type": "code",
   "execution_count": null,
   "metadata": {
    "ExecuteTime": {
     "end_time": "2022-05-30T17:45:29.986007Z",
     "start_time": "2022-05-30T17:45:29.970979Z"
    }
   },
   "outputs": [],
   "source": [
    "xtrain['target'] = ytrain"
   ]
  },
  {
   "cell_type": "code",
   "execution_count": null,
   "metadata": {
    "ExecuteTime": {
     "end_time": "2022-05-30T17:45:30.002010Z",
     "start_time": "2022-05-30T17:45:29.987984Z"
    }
   },
   "outputs": [],
   "source": [
    "# !pip install autogluon"
   ]
  },
  {
   "cell_type": "code",
   "execution_count": null,
   "metadata": {
    "ExecuteTime": {
     "end_time": "2022-05-30T17:45:30.016775Z",
     "start_time": "2022-05-30T17:45:30.003771Z"
    }
   },
   "outputs": [],
   "source": [
    "# AutoML\n",
    "from autogluon.tabular import TabularPredictor\n",
    "model = TabularPredictor(label='target', path=\"predictSAM\").fit(xtrain, time_limit=60)"
   ]
  },
  {
   "cell_type": "code",
   "execution_count": null,
   "metadata": {
    "ExecuteTime": {
     "end_time": "2022-05-30T17:45:30.032282Z",
     "start_time": "2022-05-30T17:45:30.017822Z"
    }
   },
   "outputs": [],
   "source": [
    "pred = model.predict(xtest)"
   ]
  },
  {
   "cell_type": "code",
   "execution_count": null,
   "metadata": {
    "ExecuteTime": {
     "end_time": "2022-05-30T17:45:30.047845Z",
     "start_time": "2022-05-30T17:45:30.033329Z"
    }
   },
   "outputs": [],
   "source": [
    "pred = pred.astype(int)"
   ]
  },
  {
   "cell_type": "code",
   "execution_count": null,
   "metadata": {
    "ExecuteTime": {
     "end_time": "2022-05-30T17:45:30.063047Z",
     "start_time": "2022-05-30T17:45:30.049430Z"
    }
   },
   "outputs": [],
   "source": [
    "print_cmx(ytest, pred, \"AutoML\")"
   ]
  },
  {
   "cell_type": "code",
   "execution_count": null,
   "metadata": {
    "ExecuteTime": {
     "end_time": "2022-05-30T17:45:30.078190Z",
     "start_time": "2022-05-30T17:45:30.064796Z"
    }
   },
   "outputs": [],
   "source": [
    "print(\"Classification Report for the test set {}\".format(classification_report(ytest, pred)))"
   ]
  },
  {
   "cell_type": "code",
   "execution_count": null,
   "metadata": {
    "ExecuteTime": {
     "end_time": "2022-05-30T17:45:30.093694Z",
     "start_time": "2022-05-30T17:45:30.079799Z"
    }
   },
   "outputs": [],
   "source": [
    "xtest['target'] = ytest"
   ]
  },
  {
   "cell_type": "code",
   "execution_count": null,
   "metadata": {
    "ExecuteTime": {
     "end_time": "2022-05-30T17:45:30.109320Z",
     "start_time": "2022-05-30T17:45:30.095326Z"
    }
   },
   "outputs": [],
   "source": [
    "# Summary of performance by trained models using AutoML\n",
    "output_autogluon_df = model.leaderboard(xtest, silent=True)\n",
    "output_autogluon_df"
   ]
  },
  {
   "cell_type": "code",
   "execution_count": null,
   "metadata": {
    "ExecuteTime": {
     "end_time": "2022-05-30T17:45:30.125402Z",
     "start_time": "2022-05-30T17:45:30.111449Z"
    }
   },
   "outputs": [],
   "source": [
    "output_autogluon_df.to_csv('performance_summary_2022_test_1205_autogluon_sg.csv', index=False)"
   ]
  },
  {
   "cell_type": "code",
   "execution_count": null,
   "metadata": {
    "ExecuteTime": {
     "end_time": "2022-05-30T17:45:30.141134Z",
     "start_time": "2022-05-30T17:45:30.127132Z"
    }
   },
   "outputs": [],
   "source": [
    "model"
   ]
  },
  {
   "cell_type": "code",
   "execution_count": null,
   "metadata": {
    "ExecuteTime": {
     "end_time": "2022-05-30T17:45:30.157136Z",
     "start_time": "2022-05-30T17:45:30.142135Z"
    }
   },
   "outputs": [],
   "source": [
    "# class AutogluonWrapper:\n",
    "    def __init__(self, predictor, feature_names):\n",
    "        self.ag_model = predictor\n",
    "        self.feature_names = feature_names\n",
    "    \n",
    "    def predict_prob(self, X):\n",
    "        if isinstance(X, pd.Series):\n",
    "            X = X.values.reshape(1,-1)\n",
    "        if not isinstance(X, pd.DataFrame):\n",
    "            X = pd.DataFrame(X, columns=self.feature_names)\n",
    "        return self.ag_model.predict_proba(X, as_multiclass=True)"
   ]
  },
  {
   "cell_type": "code",
   "execution_count": null,
   "metadata": {
    "ExecuteTime": {
     "end_time": "2022-05-30T17:45:30.173169Z",
     "start_time": "2022-05-30T17:45:30.158136Z"
    }
   },
   "outputs": [],
   "source": [
    "ag_wrapper = AutogluonWrapper(model, feat)\n",
    "explainer = shap.KernelExplainer(ag_wrapper.predict_prob, xtest[feat].iloc[0:50])"
   ]
  },
  {
   "cell_type": "code",
   "execution_count": null,
   "metadata": {
    "ExecuteTime": {
     "end_time": "2022-05-30T17:45:30.188577Z",
     "start_time": "2022-05-30T17:45:30.174135Z"
    }
   },
   "outputs": [],
   "source": [
    "# explainer for SHAP values\n",
    "shap_values = explainer.shap_values(xtest[feat].iloc[0:50])"
   ]
  },
  {
   "cell_type": "code",
   "execution_count": null,
   "metadata": {
    "ExecuteTime": {
     "end_time": "2022-05-30T17:45:30.204106Z",
     "start_time": "2022-05-30T17:45:30.190326Z"
    }
   },
   "outputs": [],
   "source": [
    "shap.summary_plot(shap_values[0], xtest[feat].iloc[0:50], plot_type=\"bar\")\n",
    "shap.summary_plot(shap_values[0], xtest[feat].iloc[0:50])"
   ]
  },
  {
   "cell_type": "code",
   "execution_count": null,
   "metadata": {
    "ExecuteTime": {
     "end_time": "2022-05-30T17:45:30.219448Z",
     "start_time": "2022-05-30T17:45:30.205854Z"
    }
   },
   "outputs": [],
   "source": [
    "xtrain.drop('target', axis=1, inplace=True)\n",
    "xtest.drop('target', axis=1, inplace=True)"
   ]
  },
  {
   "cell_type": "markdown",
   "metadata": {},
   "source": [
    "### Stacking###"
   ]
  },
  {
   "cell_type": "code",
   "execution_count": null,
   "metadata": {
    "ExecuteTime": {
     "end_time": "2022-05-30T17:45:30.234840Z",
     "start_time": "2022-05-30T17:45:30.221082Z"
    }
   },
   "outputs": [],
   "source": [
    "# stacking for combining the predictions by RF, LGB, XGB using lightgbm model (lightgbm as the level 2 model or meta model) \n",
    "pred_rf = cross_val_predict(model_rf, xtrain, ytrain, cv=10)\n",
    "pred_xgb = cross_val_predict(model_xgb_qwk_noimp, xtrain, ytrain, cv=10)\n",
    "pred_lgb = cross_val_predict(model_lgb_qwk, xtrain, ytrain, cv=10)"
   ]
  },
  {
   "cell_type": "code",
   "execution_count": null,
   "metadata": {
    "ExecuteTime": {
     "end_time": "2022-05-30T17:45:30.250490Z",
     "start_time": "2022-05-30T17:45:30.236892Z"
    }
   },
   "outputs": [],
   "source": [
    "predictions = pd.DataFrame()\n",
    "\n",
    "predictions['rf'] = pred_rf\n",
    "predictions['xgb'] = pred_xgb\n",
    "predictions['lgb'] = pred_lgb"
   ]
  },
  {
   "cell_type": "code",
   "execution_count": null,
   "metadata": {
    "ExecuteTime": {
     "end_time": "2022-05-30T17:45:30.265980Z",
     "start_time": "2022-05-30T17:45:30.252496Z"
    }
   },
   "outputs": [],
   "source": [
    "model = lgb.LGBMClassifier(n_estimators=200)\n",
    "\n",
    "model.fit(predictions, ytrain)"
   ]
  },
  {
   "cell_type": "code",
   "execution_count": null,
   "metadata": {
    "ExecuteTime": {
     "end_time": "2022-05-30T17:45:30.282132Z",
     "start_time": "2022-05-30T17:45:30.267901Z"
    }
   },
   "outputs": [],
   "source": [
    "pred_rf = model_rf.predict(xtest)\n",
    "pred_xgb = model_xgb_qwk_noimp.predict(xtest)\n",
    "pred_lgb = model_lgb_qwk.predict(xtest)"
   ]
  },
  {
   "cell_type": "code",
   "execution_count": null,
   "metadata": {
    "ExecuteTime": {
     "end_time": "2022-05-30T17:45:30.298274Z",
     "start_time": "2022-05-30T17:45:30.283159Z"
    }
   },
   "outputs": [],
   "source": [
    "predictions = pd.DataFrame()\n",
    "\n",
    "predictions['rf'] = pred_rf\n",
    "predictions['xgb'] = pred_xgb\n",
    "predictions['lgb'] = pred_lgb"
   ]
  },
  {
   "cell_type": "code",
   "execution_count": null,
   "metadata": {
    "ExecuteTime": {
     "end_time": "2022-05-30T17:45:30.313936Z",
     "start_time": "2022-05-30T17:45:30.300038Z"
    }
   },
   "outputs": [],
   "source": [
    "pred = model.predict(predictions)"
   ]
  },
  {
   "cell_type": "code",
   "execution_count": null,
   "metadata": {
    "ExecuteTime": {
     "end_time": "2022-05-30T17:45:30.329902Z",
     "start_time": "2022-05-30T17:45:30.314949Z"
    }
   },
   "outputs": [],
   "source": [
    "print_cmx(ytest, pred, \"stacking\")"
   ]
  },
  {
   "cell_type": "code",
   "execution_count": null,
   "metadata": {
    "ExecuteTime": {
     "end_time": "2022-05-30T17:45:30.345179Z",
     "start_time": "2022-05-30T17:45:30.331459Z"
    }
   },
   "outputs": [],
   "source": [
    "print(\"Classification Report for the test set {}\".format(classification_report(ytest, pred)))"
   ]
  },
  {
   "cell_type": "code",
   "execution_count": null,
   "metadata": {
    "ExecuteTime": {
     "end_time": "2022-05-30T17:45:30.360639Z",
     "start_time": "2022-05-30T17:45:30.346796Z"
    }
   },
   "outputs": [],
   "source": [
    "pd.DataFrame(classification_report(ytest, pred, output_dict=True))"
   ]
  },
  {
   "cell_type": "code",
   "execution_count": null,
   "metadata": {
    "ExecuteTime": {
     "end_time": "2022-05-30T17:45:30.375759Z",
     "start_time": "2022-05-30T17:45:30.362431Z"
    }
   },
   "outputs": [],
   "source": [
    "acc = accuracy_score(ytest, pred)\n",
    "qwk = sklearn_qwk(ytest, pred)\n",
    "one_away_acc = one_away_accuracy(ytest, pred)\n",
    "\n",
    "print('Accuracy: ', acc)\n",
    "print('QWK: ', qwk)\n",
    "print('One_away_acc: ', one_away_acc)"
   ]
  },
  {
   "cell_type": "markdown",
   "metadata": {},
   "source": [
    "RUG and RUX"
   ]
  },
  {
   "cell_type": "code",
   "execution_count": null,
   "metadata": {
    "ExecuteTime": {
     "end_time": "2022-05-30T17:45:30.391620Z",
     "start_time": "2022-05-30T17:45:30.377520Z"
    }
   },
   "outputs": [],
   "source": [
    "#Path where rule discovery files are present\n",
    "import os\n",
    "os.chdir(\"C:/Users/...\")"
   ]
  },
  {
   "cell_type": "code",
   "execution_count": null,
   "metadata": {
    "ExecuteTime": {
     "end_time": "2022-05-30T17:45:30.406630Z",
     "start_time": "2022-05-30T17:45:30.393628Z"
    }
   },
   "outputs": [],
   "source": [
    "# !pip install --upgrade ortools"
   ]
  },
  {
   "cell_type": "code",
   "execution_count": null,
   "metadata": {
    "ExecuteTime": {
     "end_time": "2022-05-30T17:45:30.763143Z",
     "start_time": "2022-05-30T17:45:30.408629Z"
    }
   },
   "outputs": [],
   "source": [
    "from rulediscovery import RUXClassifier, RUGClassifier\n",
    "randomState = 42\n",
    "maxDepth = 3\n",
    "penpar = 5\n",
    "solver = 'gurobi' # choose one of 'gurobi' / 'glpk'"
   ]
  },
  {
   "cell_type": "code",
   "execution_count": null,
   "metadata": {
    "ExecuteTime": {
     "end_time": "2022-05-30T17:45:30.870757Z",
     "start_time": "2022-05-30T17:45:30.765141Z"
    }
   },
   "outputs": [],
   "source": [
    "#Replicate RF from Pipleline\n",
    "\"\"\"\n",
    "Best RF params:\n",
    "Pipeline(steps=[('scale', MinMaxScaler()),\n",
    "                ('impute', KNNImputer(n_neighbors=3)),\n",
    "                ('rf',\n",
    "                 RandomForestClassifier(max_depth=4, n_estimators=200,\n",
    "                                        random_state=2021))])\n",
    "xtrain, ytrain, xtest, ytest, feat\n",
    "\"\"\"\n",
    "\n",
    "scale_rf = MinMaxScaler()\n",
    "impute_rf = KNNImputer(n_neighbors=3)\n",
    "\n",
    "scale_rf.fit(xtrain_copy)\n",
    "x_train_rf = scale_rf.transform(xtrain_copy)\n",
    "x_test_rf = scale_rf.transform(xtest_copy)\n",
    "\n",
    "impute_rf.fit(x_train_rf)\n",
    "x_train_rf = impute_rf.transform(x_train_rf)\n",
    "x_test_rf = impute_rf.transform(x_test_rf)\n"
   ]
  },
  {
   "cell_type": "code",
   "execution_count": null,
   "metadata": {
    "ExecuteTime": {
     "end_time": "2022-05-30T17:45:31.435616Z",
     "start_time": "2022-05-30T17:45:30.877319Z"
    }
   },
   "outputs": [],
   "source": [
    "RF = RandomForestClassifier(max_depth=6, min_samples_split=10, n_estimators=200, random_state=2021) #rf__max_features\n",
    "RF_fit = RF.fit(x_train_rf, ytrain)\n",
    "RF_pred = RF_fit.predict(x_test_rf)\n",
    "acc = accuracy_score(ytest, RF_pred)\n",
    "qwk = sklearn_qwk(ytest, RF_pred)\n",
    "one_away_acc = one_away_accuracy(ytest, RF_pred)\n",
    "\n",
    "#Printing results for check!\n",
    "print('Accuracy: ' , acc)\n",
    "print('QWK: ' , qwk)\n",
    "print('1-away-acc: ' , one_away_acc)"
   ]
  },
  {
   "cell_type": "markdown",
   "metadata": {},
   "source": [
    "RUX: Rule Extraction"
   ]
  },
  {
   "cell_type": "code",
   "execution_count": null,
   "metadata": {
    "ExecuteTime": {
     "end_time": "2022-05-30T17:45:35.963647Z",
     "start_time": "2022-05-30T17:45:31.437612Z"
    }
   },
   "outputs": [],
   "source": [
    "RUXRF = RUXClassifier(rf=RF,\n",
    "                      pen_par=penpar,\n",
    "                      rule_length_cost=True,\n",
    "                      false_negative_cost=False, \n",
    "                      solver=solver)\n",
    "RUXRF_fit = RUXRF.fit(x_train_rf, ytrain)\n",
    "RUXRF_pred = RUXRF.predict(x_test_rf)\n",
    "\n",
    "acc = accuracy_score(ytest, RUXRF_pred)\n",
    "qwk = sklearn_qwk(ytest, RUXRF_pred)\n",
    "one_away_acc = one_away_accuracy(ytest, RUXRF_pred)\n",
    "\n",
    "#Printing results for check!\n",
    "print('Accuracy: ' , acc)\n",
    "print('QWK: ' , qwk)\n",
    "print('1-away-acc: ' , one_away_acc)"
   ]
  },
  {
   "cell_type": "code",
   "execution_count": null,
   "metadata": {
    "ExecuteTime": {
     "end_time": "2022-05-30T17:45:35.979045Z",
     "start_time": "2022-05-30T17:45:35.964359Z"
    }
   },
   "outputs": [],
   "source": [
    "print('Total number of RF rules: ', RUXRF.get_init_num_of_rules())\n",
    "print('Total number of rules in RUX(RF): ', RUXRF.get_num_of_rules())\n",
    "print('Total number of missed samples in RUX(RF): ', RUXRF.get_num_of_missed())\n",
    "print('Training time for RUX(RF)', RUXRF.get_fit_time())\n",
    "print('Prediction time for RUX(RF)', RUXRF.get_predict_time())"
   ]
  },
  {
   "cell_type": "code",
   "execution_count": null,
   "metadata": {
    "ExecuteTime": {
     "end_time": "2022-05-30T17:45:36.009692Z",
     "start_time": "2022-05-30T17:45:35.979944Z"
    }
   },
   "outputs": [],
   "source": [
    "RUXRF.print_rules()"
   ]
  },
  {
   "cell_type": "markdown",
   "metadata": {},
   "source": [
    "RUG: Rule Generation"
   ]
  },
  {
   "cell_type": "code",
   "execution_count": null,
   "metadata": {
    "ExecuteTime": {
     "end_time": "2022-05-30T17:45:36.572721Z",
     "start_time": "2022-05-30T17:45:36.010660Z"
    }
   },
   "outputs": [],
   "source": [
    "RUG = RUGClassifier(max_depth=maxDepth,\n",
    "                        pen_par=penpar,\n",
    "                        rule_length_cost=True,\n",
    "                        false_negative_cost=False,\n",
    "                        solver=solver,\n",
    "                        random_state=randomState)\n",
    "RUG_pred = RUG.fit(x_train_rf, ytrain).predict(x_test_rf)\n",
    "\n",
    "acc = accuracy_score(ytest, RUG_pred)\n",
    "qwk = sklearn_qwk(ytest, RUG_pred)\n",
    "one_away_acc = one_away_accuracy(ytest, RUG_pred)\n",
    "\n",
    "#Printing results for check!\n",
    "print('Accuracy: ' , acc)\n",
    "print('QWK: ' , qwk)\n",
    "print('1-away-acc: ' , one_away_acc)"
   ]
  },
  {
   "cell_type": "code",
   "execution_count": null,
   "metadata": {
    "ExecuteTime": {
     "end_time": "2022-05-30T17:45:36.588240Z",
     "start_time": "2022-05-30T17:45:36.574720Z"
    }
   },
   "outputs": [],
   "source": [
    "print('Total number of rules in RUG: ', RUG.get_num_of_rules())\n",
    "print('Total number of missed samples in RUG: ', RUG.get_num_of_missed())\n",
    "print('Training time for RUG', RUG.get_fit_time())\n",
    "print('Prediction time for RUG', RUG.get_predict_time())"
   ]
  },
  {
   "cell_type": "code",
   "execution_count": null,
   "metadata": {
    "ExecuteTime": {
     "end_time": "2022-05-30T17:45:36.603771Z",
     "start_time": "2022-05-30T17:45:36.590241Z"
    }
   },
   "outputs": [],
   "source": [
    "RUG.print_rules()"
   ]
  },
  {
   "cell_type": "code",
   "execution_count": null,
   "metadata": {
    "ExecuteTime": {
     "end_time": "2022-05-30T17:45:36.619769Z",
     "start_time": "2022-05-30T17:45:36.605769Z"
    }
   },
   "outputs": [],
   "source": [
    "print(\"--- %s mins ---\" % ((time.time() - start_time)/60))"
   ]
  }
 ],
 "metadata": {
  "kernelspec": {
   "display_name": "Python 3 (ipykernel)",
   "language": "python",
   "name": "python3"
  },
  "language_info": {
   "codemirror_mode": {
    "name": "ipython",
    "version": 3
   },
   "file_extension": ".py",
   "mimetype": "text/x-python",
   "name": "python",
   "nbconvert_exporter": "python",
   "pygments_lexer": "ipython3",
   "version": "3.10.9"
  }
 },
 "nbformat": 4,
 "nbformat_minor": 4
}
